{
 "cells": [
  {
   "cell_type": "markdown",
   "metadata": {},
   "source": [
    "# Red LOTR"
   ]
  },
  {
   "cell_type": "markdown",
   "metadata": {},
   "source": [
    "#### Matriz de adyacencia"
   ]
  },
  {
   "cell_type": "code",
   "execution_count": null,
   "metadata": {},
   "outputs": [],
   "source": [
    "A = [0 1 1 1 1 1 1 1 1 1 1 1 1 1 1 1 1 1 1 1 1 1 1 1 0 0 1 1 1 1 1 1 1 1 1 0 1 1 0 1 1 1 0\n",
    "     1 0 1 1 1 1 1 1 1 1 1 1 1 1 0 0 1 1 0 1 0 1 1 1 1 1 1 1 1 1 1 1 1 1 1 1 1 1 1 1 1 1 1\n",
    "     1 1 0 1 1 0 1 1 0 0 1 0 0 1 0 1 1 1 0 0 0 0 1 1 1 0 1 1 1 0 1 0 0 1 1 0 1 0 0 0 0 0 0\n",
    "     1 1 1 0 1 1 1 1 1 1 1 1 1 0 1 1 1 1 0 1 0 1 0 1 1 0 1 1 1 1 1 0 1 0 1 0 1 1 0 1 1 1 1\n",
    "     1 1 1 1 0 1 1 1 1 1 1 1 1 0 1 1 1 0 0 1 0 1 0 1 1 0 1 1 1 1 1 0 1 0 1 1 1 1 0 0 1 1 1\n",
    "     1 1 0 1 1 0 1 1 0 1 1 0 1 1 1 0 1 1 0 1 0 1 1 1 1 1 1 1 1 1 0 1 1 0 1 1 0 1 1 0 1 1 1\n",
    "     1 1 1 1 1 1 0 1 0 1 1 0 1 1 1 0 1 1 0 1 0 0 1 1 1 0 1 1 1 1 0 1 1 0 1 1 0 1 1 0 0 1 1\n",
    "     1 1 1 1 1 1 1 0 1 1 1 0 1 1 1 1 1 1 0 0 0 0 1 1 1 1 1 1 1 1 1 0 1 1 1 1 1 1 1 1 0 0 1\n",
    "     1 1 0 1 1 0 0 1 0 1 0 1 1 0 0 0 0 0 1 0 0 0 0 0 1 0 1 0 1 0 0 0 0 0 1 0 0 0 0 0 1 0 0\n",
    "     1 1 0 1 1 1 1 1 1 0 1 1 1 1 1 0 1 0 0 0 0 0 0 1 1 0 1 1 1 0 1 0 1 1 1 0 0 1 0 0 0 0 1\n",
    "     1 1 1 1 1 1 1 1 0 1 0 0 1 1 0 0 1 1 0 1 0 1 1 1 1 0 1 1 1 1 0 0 1 0 1 1 1 0 1 1 0 0 0\n",
    "     1 1 0 1 1 0 0 0 1 1 0 0 0 0 0 0 0 0 0 0 0 0 0 0 1 0 0 0 1 0 0 0 0 0 1 0 0 0 0 0 0 0 0\n",
    "     1 1 0 1 1 1 1 1 1 1 1 0 0 1 0 0 1 0 0 0 0 0 0 0 1 0 1 0 1 0 0 0 0 1 0 0 0 1 0 0 0 0 0\n",
    "     1 1 1 0 0 1 1 1 0 1 1 0 1 0 0 0 0 1 0 0 0 0 1 1 0 1 1 1 1 1 0 1 0 0 1 0 0 0 0 0 0 1 1\n",
    "     1 0 0 1 1 1 1 1 0 1 0 0 0 0 0 0 0 0 0 0 0 0 0 0 1 0 1 0 0 0 0 1 0 0 0 0 0 1 0 0 0 0 0\n",
    "     1 0 1 1 1 0 0 1 0 0 0 0 0 0 0 0 1 0 0 0 1 0 0 0 1 0 1 0 0 0 1 0 0 1 0 0 1 0 0 0 0 0 0\n",
    "     1 1 1 1 1 1 1 1 0 1 1 0 1 0 0 1 0 1 0 1 0 1 0 1 1 0 1 1 1 1 1 1 1 1 0 1 1 1 1 0 0 0 0\n",
    "     1 1 1 1 0 1 1 1 0 0 1 0 0 1 0 0 1 0 0 0 0 0 0 0 1 1 1 1 1 0 1 1 1 0 1 0 1 0 0 0 0 0 0\n",
    "     1 0 0 0 0 0 0 0 1 0 0 0 0 0 0 0 0 0 0 0 0 0 0 0 0 0 0 0 0 0 0 0 0 0 0 0 0 0 0 0 0 0 0\n",
    "     1 1 0 1 1 1 1 0 0 0 1 0 0 0 0 0 1 0 0 0 0 1 0 0 1 0 1 0 0 1 1 1 1 0 0 0 1 0 1 1 0 0 0\n",
    "     1 0 0 0 0 0 0 0 0 0 0 0 0 0 0 1 0 0 0 0 0 0 0 0 1 0 0 0 0 0 0 0 0 0 0 0 0 0 0 0 0 0 0\n",
    "     1 1 0 1 1 1 0 0 0 0 1 0 0 0 0 0 1 0 0 1 0 0 0 1 1 0 1 0 0 1 0 0 1 0 0 1 0 0 1 0 0 0 0\n",
    "     1 1 1 0 0 1 1 1 0 0 1 0 0 1 0 0 0 0 0 0 0 0 0 0 0 1 1 0 0 0 0 0 0 0 1 0 0 0 0 0 0 1 1\n",
    "     1 1 1 1 1 1 1 1 0 1 1 0 0 1 0 0 1 0 0 0 0 1 0 0 1 0 1 1 1 1 1 0 0 0 0 0 1 1 1 0 0 0 0\n",
    "     0 1 1 1 1 1 1 1 1 1 1 1 1 0 1 1 1 1 0 1 1 1 0 1 0 0 1 1 1 1 1 0 0 1 1 0 1 1 0 0 1 1 0\n",
    "     0 1 0 0 0 1 0 1 0 0 0 0 0 1 0 0 0 1 0 0 0 0 1 0 0 0 0 0 0 0 0 0 0 0 0 0 0 0 0 0 0 1 1\n",
    "     1 1 1 1 1 1 1 1 1 1 1 0 1 1 1 1 1 1 0 1 0 1 1 1 1 0 0 1 1 1 1 1 1 1 1 1 1 1 1 1 1 1 1\n",
    "     1 1 1 1 1 1 1 1 0 1 1 0 0 1 0 0 1 1 0 0 0 0 0 1 1 0 1 0 1 1 1 0 1 0 1 0 1 1 1 1 1 1 0\n",
    "     1 1 1 1 1 1 1 1 1 1 1 1 1 1 0 0 1 1 0 0 0 0 0 1 1 0 1 1 0 1 1 1 1 1 1 1 1 1 0 0 0 0 1\n",
    "     1 1 0 1 1 1 1 1 0 0 1 0 0 1 0 0 1 0 0 1 0 1 0 1 1 0 1 1 1 0 1 1 1 1 0 1 1 0 1 1 0 0 0\n",
    "     1 1 1 1 1 0 0 1 0 1 0 0 0 0 0 1 1 1 0 1 0 0 0 1 1 0 1 1 1 1 0 1 1 1 1 1 1 0 0 1 0 0 0\n",
    "     1 1 0 0 0 1 1 0 0 0 0 0 0 1 1 0 1 1 0 1 0 0 0 0 0 0 1 0 1 1 1 0 1 1 0 0 0 0 0 0 0 0 0\n",
    "     1 1 0 1 1 1 1 1 0 1 1 0 0 0 0 0 1 1 0 1 0 1 0 0 0 0 1 1 1 1 1 1 0 1 1 1 1 1 1 0 0 0 0\n",
    "     1 1 1 0 0 0 0 1 0 1 0 0 1 0 0 1 1 0 0 0 0 0 0 0 1 0 1 0 1 1 1 1 1 0 1 0 1 1 0 0 0 0 0\n",
    "     1 1 1 1 1 1 1 1 1 1 1 1 0 1 0 0 0 1 0 0 0 0 1 0 1 0 1 1 1 0 1 0 1 1 0 0 0 0 0 0 0 1 0\n",
    "     0 1 0 0 1 1 1 1 0 0 1 0 0 0 0 0 1 0 0 0 0 1 0 0 0 0 1 0 1 1 1 0 1 0 0 0 0 0 1 0 0 0 0\n",
    "     1 1 1 1 1 0 0 1 0 0 1 0 0 0 0 1 1 1 0 1 0 0 0 1 1 0 1 1 1 1 1 0 1 1 0 0 0 0 1 1 0 0 0\n",
    "     1 1 0 1 1 1 1 1 0 1 0 0 1 0 1 0 1 0 0 0 0 0 0 1 1 0 1 1 1 0 0 0 1 1 0 0 0 0 0 0 0 0 0\n",
    "     0 1 0 0 0 1 1 1 0 0 1 0 0 0 0 0 1 0 0 1 0 1 0 1 0 0 1 1 0 1 0 0 1 0 0 1 1 0 0 1 0 0 0\n",
    "     1 1 0 1 0 0 0 1 0 0 1 0 0 0 0 0 0 0 0 1 0 0 0 0 0 0 1 1 0 1 1 0 0 0 0 0 1 0 1 0 0 0 0\n",
    "     1 1 0 1 1 1 0 0 1 0 0 0 0 0 0 0 0 0 0 0 0 0 0 0 1 0 1 1 0 0 0 0 0 0 0 0 0 0 0 0 0 0 0\n",
    "     1 1 0 1 1 1 1 0 0 0 0 0 0 1 0 0 0 0 0 0 0 0 1 0 1 1 1 1 0 0 0 0 0 0 1 0 0 0 0 0 0 0 1\n",
    "     0 1 0 1 1 1 1 1 0 1 0 0 0 1 0 0 0 0 0 0 0 0 1 0 0 1 1 0 1 0 0 0 0 0 0 0 0 0 0 0 0 1 0]"
   ]
  },
  {
   "cell_type": "code",
   "execution_count": null,
   "metadata": {},
   "outputs": [],
   "source": [
    "A[2,2] #Regresa el valor a22"
   ]
  },
  {
   "cell_type": "code",
   "execution_count": null,
   "metadata": {},
   "outputs": [],
   "source": [
    "A[45] #Corresponde a la misma entrada, a22"
   ]
  },
  {
   "cell_type": "markdown",
   "metadata": {},
   "source": [
    "#### Grado de entrada\n",
    "Suma de renglones. Lo que entra a un cierto nodo."
   ]
  },
  {
   "cell_type": "code",
   "execution_count": null,
   "metadata": {},
   "outputs": [],
   "source": [
    "?sum"
   ]
  },
  {
   "cell_type": "code",
   "execution_count": null,
   "metadata": {},
   "outputs": [],
   "source": [
    "grados_entrada = sum(A, dims = 2)"
   ]
  },
  {
   "cell_type": "markdown",
   "metadata": {},
   "source": [
    "#### Grado de salida\n",
    "Suma de columnas. Es lo que sale de un cierto nodo."
   ]
  },
  {
   "cell_type": "code",
   "execution_count": null,
   "metadata": {},
   "outputs": [],
   "source": [
    "grados_salida = sum(A, dims = 1)"
   ]
  },
  {
   "cell_type": "markdown",
   "metadata": {},
   "source": [
    "En este caso coinciden pues se trata de una matriz no dirigida ni pesada."
   ]
  },
  {
   "cell_type": "code",
   "execution_count": null,
   "metadata": {},
   "outputs": [],
   "source": [
    "grados_entrada[1]"
   ]
  },
  {
   "cell_type": "code",
   "execution_count": null,
   "metadata": {},
   "outputs": [],
   "source": [
    "grados_salida[1]"
   ]
  },
  {
   "cell_type": "code",
   "execution_count": null,
   "metadata": {},
   "outputs": [],
   "source": [
    "grados_entrada[4] == grados_salida[4]"
   ]
  },
  {
   "cell_type": "code",
   "execution_count": null,
   "metadata": {},
   "outputs": [],
   "source": [
    "grados_entrada[27] == grados_salida[27]"
   ]
  },
  {
   "cell_type": "markdown",
   "metadata": {},
   "source": [
    "#### Grado de la red\n",
    "Promedio de los grados de los nodos."
   ]
  },
  {
   "cell_type": "code",
   "execution_count": null,
   "metadata": {},
   "outputs": [],
   "source": [
    "length(grados_entrada) #Longitud del arreglo grados_entrada"
   ]
  },
  {
   "cell_type": "code",
   "execution_count": null,
   "metadata": {},
   "outputs": [],
   "source": [
    "grado_red = sum(grados_entrada) / length(grados_entrada) #Grado de la red, promedio de los grados"
   ]
  },
  {
   "cell_type": "markdown",
   "metadata": {},
   "source": [
    "#### Camino (Path)\n",
    "Es una secuencia de nodos o aristas que están conectadas."
   ]
  },
  {
   "cell_type": "code",
   "execution_count": null,
   "metadata": {},
   "outputs": [],
   "source": [
    "#1con2 primer pedazo\n",
    "i=1 #renglón, nodo inicial\n",
    "c=1 #contador\n",
    "while B[i,c]==0\n",
    "    global c+=1\n",
    "end\n",
    "c"
   ]
  },
  {
   "cell_type": "code",
   "execution_count": null,
   "metadata": {},
   "outputs": [],
   "source": [
    "#1con2 primer pedazo\n",
    "function uno()\n",
    "i=1 #renglón, nodo inicial\n",
    "global c\n",
    "    c=1 #contador\n",
    "while B[i,c]==0\n",
    "    global c+=1\n",
    "end\n",
    "c\n",
    "end"
   ]
  },
  {
   "cell_type": "code",
   "execution_count": null,
   "metadata": {},
   "outputs": [],
   "source": [
    "uno()"
   ]
  },
  {
   "cell_type": "code",
   "execution_count": null,
   "metadata": {},
   "outputs": [],
   "source": [
    "sgh=Array{Tuple{Int64,Int64},1}()"
   ]
  },
  {
   "cell_type": "code",
   "execution_count": null,
   "metadata": {},
   "outputs": [],
   "source": [
    "push!(sgh,(1,1))"
   ]
  },
  {
   "cell_type": "code",
   "execution_count": null,
   "metadata": {},
   "outputs": [],
   "source": [
    "push!(sgh,(4,1))"
   ]
  },
  {
   "cell_type": "code",
   "execution_count": null,
   "metadata": {},
   "outputs": [],
   "source": [
    "#1con2\n",
    "i=1 #renglón, nodo inicial\n",
    "j=2 #columna, nodo final\n",
    "c=1 #contador\n",
    "#camino=0\n",
    "camino = Array{Tuple{Int64,Int64},1}() #Creo un arreglo vacío de tuplas\n",
    "push!(camino,(i,i))\n",
    "\n",
    "\n",
    "if B[i,j]==0\n",
    "    \n",
    "    print(i,j)\n",
    "    camino+=1\n",
    "    print(\"camino:\")\n",
    "    print(camino)\n",
    "    else B[i,j]==\n",
    "end\n",
    "#while B[i,c]==0\n",
    " #   global c+=1\n",
    "#end\n",
    "#print(c, B[c,i])\n",
    "#s=B[c,i]"
   ]
  },
  {
   "cell_type": "code",
   "execution_count": null,
   "metadata": {},
   "outputs": [],
   "source": [
    "B = [0 0 1 0\n",
    "     0 0 1 1\n",
    "     1 1 0 1\n",
    "     0 1 1 0]\n",
    "#Matriz ejemplo"
   ]
  },
  {
   "cell_type": "code",
   "execution_count": null,
   "metadata": {},
   "outputs": [],
   "source": [
    "#prueba\n",
    "function camino()\n",
    "    B = [0 0 1 0\n",
    "         0 0 1 1\n",
    "         1 1 0 1\n",
    "         0 1 1 0]\n",
    "\n",
    "    global i\n",
    "    global j\n",
    "    global c\n",
    "    \n",
    "    i = 1 #renglón, nodo inicial    \n",
    "    j = 2 #columna, nodo final\n",
    "    c = 1 #contador\n",
    "    #camino=0\n",
    "    \n",
    "    camino_v = Array{Int64,1}()\n",
    "    push!(camino_v,i)\n",
    "    \n",
    "    camino_e = Array{Tuple{Int64,Int64},1}() #Creo un arreglo vacío de tuplas\n",
    "    push!(camino_e,(i,i))\n",
    "    \n",
    "    for c = 1:4\n",
    "            \n",
    "        while B[i,c] == 0\n",
    "            c += 1\n",
    "            if B[i,c] == 1\n",
    "                break\n",
    "            push!(camino_v,c)\n",
    "            push!(camino_e,(i,c))\n",
    "            #i = c\n",
    "        end\n",
    "        end\n",
    "    end\n",
    "    end\n",
    "            \n",
    "            #while true\n",
    "             #   global j += 1\n",
    "              #  B[i,j] == 1 && break\n",
    "               # push!(i,j)\n",
    "                #j = i\n",
    "    "
   ]
  },
  {
   "cell_type": "code",
   "execution_count": null,
   "metadata": {},
   "outputs": [],
   "source": [
    "camino()"
   ]
  },
  {
   "cell_type": "code",
   "execution_count": null,
   "metadata": {},
   "outputs": [],
   "source": [
    "#prueba2\n",
    "function camino()\n",
    "\n",
    "    i = 1 #renglón, nodo inicial    \n",
    "    j = 4 #columna, nodo final\n",
    "    \n",
    "    #global i\n",
    "    #global j\n",
    "    global c\n",
    "\n",
    "    c = 1 #contador\n",
    "    #camino=0\n",
    "\n",
    "    camino_v = Array{Int64,1}() #Arreglo vacío\n",
    "    push!(camino_v,i)\n",
    "\n",
    "    camino_e = Array{Tuple{Int64,Int64},1}() #Creo un arreglo vacío de tuplas\n",
    "    push!(camino_e,(i,i))\n",
    "\n",
    "   \n",
    "    while B[i,c] == 0\n",
    "        global c += 1\n",
    "    end\n",
    "    \n",
    "    push!(camino_v,c)\n",
    "    push!(camino_e,(i,c))\n",
    "        #i = c\n",
    "    print(camino_v)\n",
    "    \n",
    "    print(camino_e)\n",
    "    \n",
    "    println(\"La longitud de camino es \")\n",
    "    print(length(camino_v))\n",
    "\n",
    "end    "
   ]
  },
  {
   "cell_type": "code",
   "execution_count": null,
   "metadata": {},
   "outputs": [],
   "source": [
    "camino()"
   ]
  },
  {
   "cell_type": "code",
   "execution_count": null,
   "metadata": {},
   "outputs": [],
   "source": [
    "B = [0 0 1 0\n",
    "     0 0 1 1\n",
    "     1 1 0 1\n",
    "     0 1 1 0]\n",
    "#Matriz ejemplo"
   ]
  },
  {
   "cell_type": "code",
   "execution_count": null,
   "metadata": {},
   "outputs": [],
   "source": [
    "#prueba3 \n",
    "function caminos(i, j)\n",
    "\n",
    "    #i = 1 #renglón, nodo inicial    \n",
    "    #j = 4 #columna, nodo final\n",
    "    global c\n",
    "\n",
    "    c = 1 #contador\n",
    "    anterior = (0, 0)\n",
    "\n",
    "    camino_v = Array{Int64,1}() #Arreglo vacío para los nodos\n",
    "    push!(camino_v,i) #Agrego el nodo inicial\n",
    "\n",
    "    camino_e = Array{Tuple{Int64,Int64},1}() #Creo un arreglo vacío de tuplas para las aristas\n",
    "    #push!(camino_e,(i,i)) \n",
    "    \n",
    "    while i != j\n",
    "        \n",
    "        if anterior[1] == 1 && anterior[2] == i\n",
    "            global c += 1\n",
    "            anterior = (i, c)\n",
    "            \n",
    "        elseif anterior[1] != 1 || anterior[2] != i \n",
    "            while B[i,c] == 0\n",
    "                global c += 1\n",
    "            end\n",
    "            \n",
    "            push!(camino_v,c)\n",
    "            push!(camino_e,(i,c))\n",
    "            \n",
    "            \n",
    "            anterior = (i, c)\n",
    "        \n",
    "            i = c\n",
    "            @show i\n",
    "            c = 1\n",
    "            @show c\n",
    "            \n",
    "        end\n",
    "    end\n",
    "    \n",
    "    print(camino_v)\n",
    "    print(camino_e)\n",
    "    print(length(camino_v)-1)\n",
    "    \n",
    "end"
   ]
  },
  {
   "cell_type": "code",
   "execution_count": null,
   "metadata": {},
   "outputs": [],
   "source": [
    "caminos(1, 3)"
   ]
  },
  {
   "cell_type": "code",
   "execution_count": null,
   "metadata": {},
   "outputs": [],
   "source": [
    "caminos(2, 3)"
   ]
  },
  {
   "cell_type": "code",
   "execution_count": null,
   "metadata": {},
   "outputs": [],
   "source": [
    "caminos(1,2)"
   ]
  },
  {
   "cell_type": "code",
   "execution_count": null,
   "metadata": {},
   "outputs": [],
   "source": [
    "#prueba4\n",
    "function caminos2(i, j)\n",
    "\n",
    "    #i = 1 #renglón, nodo inicial    \n",
    "    #j = 4 #columna, nodo final\n",
    "    global c\n",
    "\n",
    "    c = 1 #contador\n",
    "    anterior = (0, 0)\n",
    "\n",
    "    camino_v = Array{Int64,1}() #Arreglo vacío para los nodos\n",
    "    push!(camino_v,i) #Agrego el nodo inicial\n",
    "\n",
    "    camino_e = Array{Tuple{Int64,Int64},1}() #Creo un arreglo vacío de tuplas para las aristas\n",
    "    #push!(camino_e,(i,i)) \n",
    "    \n",
    "    while i != j\n",
    "        \n",
    "        if anterior[1] == 1 && anterior[2] == i\n",
    "            global c += 1\n",
    "            anterior = (i, c)\n",
    "            \n",
    "        elseif anterior[1] != 1 || anterior[2] != i \n",
    "            while A[i,c] == 0\n",
    "                global c += 1\n",
    "            end\n",
    "            \n",
    "            push!(camino_v,c)\n",
    "            push!(camino_e,(i,c))\n",
    "            \n",
    "            \n",
    "            anterior = (i, c)\n",
    "        \n",
    "            i = c\n",
    "            @show i\n",
    "            c = 1\n",
    "            @show c\n",
    "            \n",
    "        end\n",
    "    end\n",
    "    \n",
    "    print(camino_v)\n",
    "    print(camino_e)\n",
    "    print(length(camino_v)-1)\n",
    "    \n",
    "end"
   ]
  },
  {
   "cell_type": "code",
   "execution_count": null,
   "metadata": {},
   "outputs": [],
   "source": [
    "caminos2(1,2)"
   ]
  },
  {
   "cell_type": "code",
   "execution_count": null,
   "metadata": {},
   "outputs": [],
   "source": [
    "caminos2(1,3)"
   ]
  },
  {
   "cell_type": "markdown",
   "metadata": {},
   "source": [
    "##### Función para encontrar todos los posibles caminos que salen de un cierto nodo."
   ]
  },
  {
   "cell_type": "code",
   "execution_count": 1,
   "metadata": {},
   "outputs": [
    {
     "data": {
      "text/plain": [
       "4×4 Array{Int64,2}:\n",
       " 0  0  1  0\n",
       " 0  0  1  1\n",
       " 1  1  0  1\n",
       " 0  1  1  0"
      ]
     },
     "execution_count": 1,
     "metadata": {},
     "output_type": "execute_result"
    }
   ],
   "source": [
    "B = [0 0 1 0\n",
    "     0 0 1 1\n",
    "     1 1 0 1\n",
    "     0 1 1 0]"
   ]
  },
  {
   "cell_type": "code",
   "execution_count": null,
   "metadata": {},
   "outputs": [],
   "source": [
    "B[1, :]"
   ]
  },
  {
   "cell_type": "code",
   "execution_count": null,
   "metadata": {},
   "outputs": [],
   "source": [
    "B[1, :][1]"
   ]
  },
  {
   "cell_type": "code",
   "execution_count": null,
   "metadata": {},
   "outputs": [],
   "source": [
    "B[1, :][2]"
   ]
  },
  {
   "cell_type": "code",
   "execution_count": null,
   "metadata": {},
   "outputs": [],
   "source": [
    "B[1, :][3]"
   ]
  },
  {
   "cell_type": "code",
   "execution_count": null,
   "metadata": {},
   "outputs": [],
   "source": [
    "B[1, :][4]"
   ]
  },
  {
   "cell_type": "code",
   "execution_count": null,
   "metadata": {},
   "outputs": [],
   "source": [
    "B[2, :]"
   ]
  },
  {
   "cell_type": "code",
   "execution_count": 12,
   "metadata": {},
   "outputs": [
    {
     "data": {
      "text/plain": [
       "prueba_arbol (generic function with 1 method)"
      ]
     },
     "execution_count": 12,
     "metadata": {},
     "output_type": "execute_result"
    }
   ],
   "source": [
    "#Prueba función árbol para un sólo nodo\n",
    "function prueba_arbol(i) #Parámetro: matriz, nodo inicial: i\n",
    "    \n",
    "    nodo_inicial = i\n",
    "    path_ = Array{Int64, 1}()\n",
    "    push!(path_, i)\n",
    "    \n",
    "    for k in 1:length(B[i, :])\n",
    "        @show k\n",
    "        \n",
    "        if B[i, :][k] != 0\n",
    "            #path_i = Array{Int64, 1}(nodo_inicial)\n",
    "            push!(path_, k)\n",
    "            @show path_\n",
    "            \n",
    "        end\n",
    "        #print(path_)\n",
    "    end\n",
    "    \n",
    "end     "
   ]
  },
  {
   "cell_type": "code",
   "execution_count": 13,
   "metadata": {},
   "outputs": [
    {
     "name": "stdout",
     "output_type": "stream",
     "text": [
      "k = 1\n",
      "k = 2\n",
      "k = 3\n",
      "path_ = [1, 3]\n",
      "k = 4\n"
     ]
    }
   ],
   "source": [
    "#Prueba de la función prueba_arbol para el nodo 1 \n",
    "prueba_arbol(1)"
   ]
  },
  {
   "cell_type": "code",
   "execution_count": 14,
   "metadata": {},
   "outputs": [
    {
     "name": "stdout",
     "output_type": "stream",
     "text": [
      "k = 1\n",
      "k = 2\n",
      "k = 3\n",
      "path_ = [2, 3]\n",
      "k = 4\n",
      "path_ = [2, 3, 4]\n"
     ]
    }
   ],
   "source": [
    "#Prueba de la función prueba_arbol para el nodo 2\n",
    "prueba_arbol(2)"
   ]
  },
  {
   "cell_type": "code",
   "execution_count": 15,
   "metadata": {},
   "outputs": [
    {
     "name": "stdout",
     "output_type": "stream",
     "text": [
      "k = 1\n",
      "path_ = [3, 1]\n",
      "k = 2\n",
      "path_ = [3, 1, 2]\n",
      "k = 3\n",
      "k = 4\n",
      "path_ = [3, 1, 2, 4]\n"
     ]
    }
   ],
   "source": [
    "#Prueba de la función prueba_arbol para el nodo 3\n",
    "prueba_arbol(3)"
   ]
  },
  {
   "cell_type": "markdown",
   "metadata": {},
   "source": [
    "El problema es que no está creando nuevos arreglos, los está metiendo en el mismo arreglo path_."
   ]
  },
  {
   "cell_type": "code",
   "execution_count": null,
   "metadata": {},
   "outputs": [],
   "source": [
    "#Prueba función árbol para un sólo nodo\n",
    "function prueba_arbol(B, i) #Parámetro: matriz, nodo inicial: i\n",
    "    \n",
    "    #for c in 1:length(B[:, i]) #Para que corra sobre la columna y encuentre caminos iniciando desde todos los nodos.\n",
    "    \n",
    "    nodo_inicial = i\n",
    "    \n",
    "    for k in 1:length(B[i, :])\n",
    "        \n",
    "        if B[i, :][k] != 0 #anteriores\n",
    "            #k += 1\n",
    "        \n",
    "            #else #En cambio, si es == 1, entonces,\n",
    "            path_i = Array{Int64, 1}(nodo_inicial)\n",
    "            push!(path_i, B[i, :][k])\n",
    "            \n",
    "        end\n",
    "        \n",
    "    end\n",
    "    \n",
    "    #end\n",
    "    \n",
    "end     "
   ]
  },
  {
   "cell_type": "code",
   "execution_count": null,
   "metadata": {},
   "outputs": [],
   "source": []
  },
  {
   "cell_type": "code",
   "execution_count": null,
   "metadata": {},
   "outputs": [],
   "source": [
    "#Nueva función \n",
    "function camino_arbol(M, i)\n",
    "    global c\n",
    "\n",
    "    c = 1 #contador\n",
    "    \n",
    "    for k in 1:length(M[i,:])\n",
    "        path_i = Array{Int64,1}() #Camino de nodos\n",
    "        push!(path, k)\n",
    "    if path[end] == path[]\n",
    "        break\n",
    "    end\n",
    "\n",
    "#end"
   ]
  },
  {
   "cell_type": "code",
   "execution_count": null,
   "metadata": {},
   "outputs": [],
   "source": []
  },
  {
   "cell_type": "code",
   "execution_count": null,
   "metadata": {},
   "outputs": [],
   "source": [
    "B"
   ]
  },
  {
   "cell_type": "code",
   "execution_count": null,
   "metadata": {},
   "outputs": [],
   "source": [
    "B[1,:] #Primer renglón de la matriz"
   ]
  },
  {
   "cell_type": "code",
   "execution_count": null,
   "metadata": {},
   "outputs": [],
   "source": [
    "length(B[1,:])"
   ]
  },
  {
   "cell_type": "code",
   "execution_count": null,
   "metadata": {},
   "outputs": [],
   "source": []
  },
  {
   "cell_type": "code",
   "execution_count": null,
   "metadata": {},
   "outputs": [],
   "source": []
  },
  {
   "cell_type": "code",
   "execution_count": null,
   "metadata": {},
   "outputs": [],
   "source": []
  },
  {
   "cell_type": "code",
   "execution_count": null,
   "metadata": {},
   "outputs": [],
   "source": []
  },
  {
   "cell_type": "code",
   "execution_count": null,
   "metadata": {},
   "outputs": [],
   "source": []
  },
  {
   "cell_type": "code",
   "execution_count": null,
   "metadata": {},
   "outputs": [],
   "source": []
  },
  {
   "cell_type": "code",
   "execution_count": null,
   "metadata": {},
   "outputs": [],
   "source": []
  },
  {
   "cell_type": "code",
   "execution_count": null,
   "metadata": {},
   "outputs": [],
   "source": []
  },
  {
   "cell_type": "code",
   "execution_count": null,
   "metadata": {},
   "outputs": [],
   "source": []
  },
  {
   "cell_type": "code",
   "execution_count": null,
   "metadata": {},
   "outputs": [],
   "source": [
    "caminos(3, 4)"
   ]
  },
  {
   "cell_type": "code",
   "execution_count": null,
   "metadata": {},
   "outputs": [],
   "source": [
    "caminos(2,4)"
   ]
  },
  {
   "cell_type": "code",
   "execution_count": null,
   "metadata": {},
   "outputs": [],
   "source": [
    "caminos(1,4)"
   ]
  },
  {
   "cell_type": "code",
   "execution_count": null,
   "metadata": {},
   "outputs": [],
   "source": [
    "ant=(1,3)"
   ]
  },
  {
   "cell_type": "code",
   "execution_count": null,
   "metadata": {},
   "outputs": [],
   "source": [
    "ant[2]"
   ]
  },
  {
   "cell_type": "code",
   "execution_count": null,
   "metadata": {},
   "outputs": [],
   "source": [
    "?symmetric"
   ]
  },
  {
   "cell_type": "code",
   "execution_count": null,
   "metadata": {},
   "outputs": [],
   "source": [
    "#1con2\n",
    "i=1 #renglón, nodo inicial\n",
    "j=2 #columna, nodo final\n",
    "c=1 #contador\n",
    "camino=0\n",
    "Array{Float64,2}\n",
    "print(i,i)\n",
    "if B[i,j]==1\n",
    "    print(i,j)\n",
    "    camino+=1\n",
    "    print(\"camino:\")\n",
    "    print(camino)\n",
    "end\n",
    "#while B[i,c]==0\n",
    " #   global c+=1\n",
    "#end\n",
    "#print(c, B[c,i])\n",
    "#s=B[c,i]"
   ]
  },
  {
   "cell_type": "code",
   "execution_count": null,
   "metadata": {},
   "outputs": [],
   "source": [
    "#2con3\n",
    "i=2 #renglón, nodo inicial\n",
    "j=3 #columna, nodo final\n",
    "c=1 #contador\n",
    "n=1\n",
    "camino=0\n",
    "print(i,i)\n",
    "while B[2,3]==0\n",
    "    if B[i,j]==1\n",
    "        print(i,j)\n",
    "        camino+=1\n",
    "        print(\"camino:\")\n",
    "        print(camino)\n",
    "    end\n",
    "    while B[i,c]==0\n",
    "        global c+=1\n",
    "    end\n",
    "    n=c\n",
    "    c=1\n",
    "#ahora hay que checar la fila c\n",
    "    while B[n,c]==0\n",
    "        global c+=1\n",
    "    end\n",
    "end"
   ]
  },
  {
   "cell_type": "markdown",
   "metadata": {},
   "source": [
    "#### Average Path Legth"
   ]
  },
  {
   "cell_type": "code",
   "execution_count": null,
   "metadata": {},
   "outputs": [],
   "source": [
    "APT=path/length(path)"
   ]
  },
  {
   "cell_type": "markdown",
   "metadata": {},
   "source": [
    "#### Excentricidad\n",
    "La excentricidad de un nodo es la longitud mayor entre los caminos más cortos que existen entre dos nodos de la red.\n",
    "La excentricidad de la red es el vector de tamaño \"n\" que contiene a las excentricidades de cada nodo."
   ]
  },
  {
   "cell_type": "code",
   "execution_count": null,
   "metadata": {},
   "outputs": [],
   "source": [
    "#M = [0 1 0 0 1 0\n",
    "     1 0 0 1 0 0\n",
    "     0 0 0 1 1 1\n",
    "     0 1 1 0 0 0\n",
    "     1 0 1 0 0 0\n",
    "     0 0 1 0 0 0]"
   ]
  },
  {
   "cell_type": "code",
   "execution_count": null,
   "metadata": {},
   "outputs": [],
   "source": [
    "j = 1\n",
    "    M[1,j]\n"
   ]
  },
  {
   "cell_type": "code",
   "execution_count": null,
   "metadata": {},
   "outputs": [],
   "source": [
    "#caminos más cortos\n",
    "#function prexc_nodo(1,3) #función con parámetro i, j. De qué nodo(i) a qué nodo(j) queremos la exc o dist más corta\n",
    "    #contador = 0 \n",
    "    j = 1\n",
    "    if M[1,j] == 0\n",
    "        j+= 1\n",
    "        else \n",
    "            M[j,1]\n",
    "    print(M[j,1])\n",
    "    end"
   ]
  },
  {
   "cell_type": "code",
   "execution_count": null,
   "metadata": {},
   "outputs": [],
   "source": [
    "j = 1\n",
    "for M[1,j] == 0\n",
    "    j+= 1\n",
    "    else \n",
    "    M[j,1]\n",
    "    print(M[j,1])\n",
    "end"
   ]
  },
  {
   "cell_type": "code",
   "execution_count": null,
   "metadata": {},
   "outputs": [],
   "source": [
    "?print"
   ]
  },
  {
   "cell_type": "markdown",
   "metadata": {},
   "source": [
    "#### Diámetro\n",
    "Se define como el máximo de las excentricidades que componen al vector excentricidad de la red."
   ]
  },
  {
   "cell_type": "code",
   "execution_count": null,
   "metadata": {},
   "outputs": [],
   "source": [
    "?maximum"
   ]
  },
  {
   "cell_type": "code",
   "execution_count": null,
   "metadata": {},
   "outputs": [],
   "source": [
    "maximum(exc_red)"
   ]
  }
 ],
 "metadata": {
  "kernelspec": {
   "display_name": "Julia 1.0.1",
   "language": "julia",
   "name": "julia-1.0"
  },
  "language_info": {
   "file_extension": ".jl",
   "mimetype": "application/julia",
   "name": "julia",
   "version": "1.0.1"
  }
 },
 "nbformat": 4,
 "nbformat_minor": 2
}
