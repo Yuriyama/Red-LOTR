{
 "cells": [
  {
   "cell_type": "markdown",
   "metadata": {},
   "source": [
    "# Red LOTR"
   ]
  },
  {
   "cell_type": "markdown",
   "metadata": {},
   "source": [
    "#### Matriz de adyacencia"
   ]
  },
  {
   "cell_type": "code",
   "execution_count": null,
   "metadata": {},
   "outputs": [],
   "source": [
    "A = [0 1 1 1 1 1 1 1 1 1 1 1 1 1 1 1 1 1 1 1 1 1 1 1 0 0 1 1 1 1 1 1 1 1 1 0 1 1 0 1 1 1 0\n",
    "     1 0 1 1 1 1 1 1 1 1 1 1 1 1 0 0 1 1 0 1 0 1 1 1 1 1 1 1 1 1 1 1 1 1 1 1 1 1 1 1 1 1 1\n",
    "     1 1 0 1 1 0 1 1 0 0 1 0 0 1 0 1 1 1 0 0 0 0 1 1 1 0 1 1 1 0 1 0 0 1 1 0 1 0 0 0 0 0 0\n",
    "     1 1 1 0 1 1 1 1 1 1 1 1 1 0 1 1 1 1 0 1 0 1 0 1 1 0 1 1 1 1 1 0 1 0 1 0 1 1 0 1 1 1 1\n",
    "     1 1 1 1 0 1 1 1 1 1 1 1 1 0 1 1 1 0 0 1 0 1 0 1 1 0 1 1 1 1 1 0 1 0 1 1 1 1 0 0 1 1 1\n",
    "     1 1 0 1 1 0 1 1 0 1 1 0 1 1 1 0 1 1 0 1 0 1 1 1 1 1 1 1 1 1 0 1 1 0 1 1 0 1 1 0 1 1 1\n",
    "     1 1 1 1 1 1 0 1 0 1 1 0 1 1 1 0 1 1 0 1 0 0 1 1 1 0 1 1 1 1 0 1 1 0 1 1 0 1 1 0 0 1 1\n",
    "     1 1 1 1 1 1 1 0 1 1 1 0 1 1 1 1 1 1 0 0 0 0 1 1 1 1 1 1 1 1 1 0 1 1 1 1 1 1 1 1 0 0 1\n",
    "     1 1 0 1 1 0 0 1 0 1 0 1 1 0 0 0 0 0 1 0 0 0 0 0 1 0 1 0 1 0 0 0 0 0 1 0 0 0 0 0 1 0 0\n",
    "     1 1 0 1 1 1 1 1 1 0 1 1 1 1 1 0 1 0 0 0 0 0 0 1 1 0 1 1 1 0 1 0 1 1 1 0 0 1 0 0 0 0 1\n",
    "     1 1 1 1 1 1 1 1 0 1 0 0 1 1 0 0 1 1 0 1 0 1 1 1 1 0 1 1 1 1 0 0 1 0 1 1 1 0 1 1 0 0 0\n",
    "     1 1 0 1 1 0 0 0 1 1 0 0 0 0 0 0 0 0 0 0 0 0 0 0 1 0 0 0 1 0 0 0 0 0 1 0 0 0 0 0 0 0 0\n",
    "     1 1 0 1 1 1 1 1 1 1 1 0 0 1 0 0 1 0 0 0 0 0 0 0 1 0 1 0 1 0 0 0 0 1 0 0 0 1 0 0 0 0 0\n",
    "     1 1 1 0 0 1 1 1 0 1 1 0 1 0 0 0 0 1 0 0 0 0 1 1 0 1 1 1 1 1 0 1 0 0 1 0 0 0 0 0 0 1 1\n",
    "     1 0 0 1 1 1 1 1 0 1 0 0 0 0 0 0 0 0 0 0 0 0 0 0 1 0 1 0 0 0 0 1 0 0 0 0 0 1 0 0 0 0 0\n",
    "     1 0 1 1 1 0 0 1 0 0 0 0 0 0 0 0 1 0 0 0 1 0 0 0 1 0 1 0 0 0 1 0 0 1 0 0 1 0 0 0 0 0 0\n",
    "     1 1 1 1 1 1 1 1 0 1 1 0 1 0 0 1 0 1 0 1 0 1 0 1 1 0 1 1 1 1 1 1 1 1 0 1 1 1 1 0 0 0 0\n",
    "     1 1 1 1 0 1 1 1 0 0 1 0 0 1 0 0 1 0 0 0 0 0 0 0 1 1 1 1 1 0 1 1 1 0 1 0 1 0 0 0 0 0 0\n",
    "     1 0 0 0 0 0 0 0 1 0 0 0 0 0 0 0 0 0 0 0 0 0 0 0 0 0 0 0 0 0 0 0 0 0 0 0 0 0 0 0 0 0 0\n",
    "     1 1 0 1 1 1 1 0 0 0 1 0 0 0 0 0 1 0 0 0 0 1 0 0 1 0 1 0 0 1 1 1 1 0 0 0 1 0 1 1 0 0 0\n",
    "     1 0 0 0 0 0 0 0 0 0 0 0 0 0 0 1 0 0 0 0 0 0 0 0 1 0 0 0 0 0 0 0 0 0 0 0 0 0 0 0 0 0 0\n",
    "     1 1 0 1 1 1 0 0 0 0 1 0 0 0 0 0 1 0 0 1 0 0 0 1 1 0 1 0 0 1 0 0 1 0 0 1 0 0 1 0 0 0 0\n",
    "     1 1 1 0 0 1 1 1 0 0 1 0 0 1 0 0 0 0 0 0 0 0 0 0 0 1 1 0 0 0 0 0 0 0 1 0 0 0 0 0 0 1 1\n",
    "     1 1 1 1 1 1 1 1 0 1 1 0 0 1 0 0 1 0 0 0 0 1 0 0 1 0 1 1 1 1 1 0 0 0 0 0 1 1 1 0 0 0 0\n",
    "     0 1 1 1 1 1 1 1 1 1 1 1 1 0 1 1 1 1 0 1 1 1 0 1 0 0 1 1 1 1 1 0 0 1 1 0 1 1 0 0 1 1 0\n",
    "     0 1 0 0 0 1 0 1 0 0 0 0 0 1 0 0 0 1 0 0 0 0 1 0 0 0 0 0 0 0 0 0 0 0 0 0 0 0 0 0 0 1 1\n",
    "     1 1 1 1 1 1 1 1 1 1 1 0 1 1 1 1 1 1 0 1 0 1 1 1 1 0 0 1 1 1 1 1 1 1 1 1 1 1 1 1 1 1 1\n",
    "     1 1 1 1 1 1 1 1 0 1 1 0 0 1 0 0 1 1 0 0 0 0 0 1 1 0 1 0 1 1 1 0 1 0 1 0 1 1 1 1 1 1 0\n",
    "     1 1 1 1 1 1 1 1 1 1 1 1 1 1 0 0 1 1 0 0 0 0 0 1 1 0 1 1 0 1 1 1 1 1 1 1 1 1 0 0 0 0 1\n",
    "     1 1 0 1 1 1 1 1 0 0 1 0 0 1 0 0 1 0 0 1 0 1 0 1 1 0 1 1 1 0 1 1 1 1 0 1 1 0 1 1 0 0 0\n",
    "     1 1 1 1 1 0 0 1 0 1 0 0 0 0 0 1 1 1 0 1 0 0 0 1 1 0 1 1 1 1 0 1 1 1 1 1 1 0 0 1 0 0 0\n",
    "     1 1 0 0 0 1 1 0 0 0 0 0 0 1 1 0 1 1 0 1 0 0 0 0 0 0 1 0 1 1 1 0 1 1 0 0 0 0 0 0 0 0 0\n",
    "     1 1 0 1 1 1 1 1 0 1 1 0 0 0 0 0 1 1 0 1 0 1 0 0 0 0 1 1 1 1 1 1 0 1 1 1 1 1 1 0 0 0 0\n",
    "     1 1 1 0 0 0 0 1 0 1 0 0 1 0 0 1 1 0 0 0 0 0 0 0 1 0 1 0 1 1 1 1 1 0 1 0 1 1 0 0 0 0 0\n",
    "     1 1 1 1 1 1 1 1 1 1 1 1 0 1 0 0 0 1 0 0 0 0 1 0 1 0 1 1 1 0 1 0 1 1 0 0 0 0 0 0 0 1 0\n",
    "     0 1 0 0 1 1 1 1 0 0 1 0 0 0 0 0 1 0 0 0 0 1 0 0 0 0 1 0 1 1 1 0 1 0 0 0 0 0 1 0 0 0 0\n",
    "     1 1 1 1 1 0 0 1 0 0 1 0 0 0 0 1 1 1 0 1 0 0 0 1 1 0 1 1 1 1 1 0 1 1 0 0 0 0 1 1 0 0 0\n",
    "     1 1 0 1 1 1 1 1 0 1 0 0 1 0 1 0 1 0 0 0 0 0 0 1 1 0 1 1 1 0 0 0 1 1 0 0 0 0 0 0 0 0 0\n",
    "     0 1 0 0 0 1 1 1 0 0 1 0 0 0 0 0 1 0 0 1 0 1 0 1 0 0 1 1 0 1 0 0 1 0 0 1 1 0 0 1 0 0 0\n",
    "     1 1 0 1 0 0 0 1 0 0 1 0 0 0 0 0 0 0 0 1 0 0 0 0 0 0 1 1 0 1 1 0 0 0 0 0 1 0 1 0 0 0 0\n",
    "     1 1 0 1 1 1 0 0 1 0 0 0 0 0 0 0 0 0 0 0 0 0 0 0 1 0 1 1 0 0 0 0 0 0 0 0 0 0 0 0 0 0 0\n",
    "     1 1 0 1 1 1 1 0 0 0 0 0 0 1 0 0 0 0 0 0 0 0 1 0 1 1 1 1 0 0 0 0 0 0 1 0 0 0 0 0 0 0 1\n",
    "     0 1 0 1 1 1 1 1 0 1 0 0 0 1 0 0 0 0 0 0 0 0 1 0 0 1 1 0 1 0 0 0 0 0 0 0 0 0 0 0 0 1 0]"
   ]
  },
  {
   "cell_type": "code",
   "execution_count": null,
   "metadata": {},
   "outputs": [],
   "source": [
    "A[2,2] #Regresa el valor a22"
   ]
  },
  {
   "cell_type": "code",
   "execution_count": null,
   "metadata": {},
   "outputs": [],
   "source": [
    "A[45] #Corresponde a la misma entrada, a22"
   ]
  },
  {
   "cell_type": "markdown",
   "metadata": {},
   "source": [
    "#### Grado de entrada\n",
    "Suma de renglones. Lo que entra a un cierto nodo."
   ]
  },
  {
   "cell_type": "code",
   "execution_count": null,
   "metadata": {},
   "outputs": [],
   "source": [
    "?sum"
   ]
  },
  {
   "cell_type": "code",
   "execution_count": null,
   "metadata": {},
   "outputs": [],
   "source": [
    "grados_entrada = sum(A, dims = 2)"
   ]
  },
  {
   "cell_type": "markdown",
   "metadata": {},
   "source": [
    "#### Grado de salida\n",
    "Suma de columnas. Es lo que sale de un cierto nodo."
   ]
  },
  {
   "cell_type": "code",
   "execution_count": null,
   "metadata": {},
   "outputs": [],
   "source": [
    "grados_salida = sum(A, dims = 1)"
   ]
  },
  {
   "cell_type": "markdown",
   "metadata": {},
   "source": [
    "En este caso coinciden pues se trata de una matriz no dirigida ni pesada."
   ]
  },
  {
   "cell_type": "code",
   "execution_count": null,
   "metadata": {},
   "outputs": [],
   "source": [
    "grados_entrada[1]"
   ]
  },
  {
   "cell_type": "code",
   "execution_count": null,
   "metadata": {},
   "outputs": [],
   "source": [
    "grados_salida[1]"
   ]
  },
  {
   "cell_type": "code",
   "execution_count": null,
   "metadata": {},
   "outputs": [],
   "source": [
    "grados_entrada[4] == grados_salida[4]"
   ]
  },
  {
   "cell_type": "code",
   "execution_count": null,
   "metadata": {},
   "outputs": [],
   "source": [
    "grados_entrada[27] == grados_salida[27]"
   ]
  },
  {
   "cell_type": "markdown",
   "metadata": {},
   "source": [
    "#### Grado de la red\n",
    "Promedio de los grados de los nodos."
   ]
  },
  {
   "cell_type": "code",
   "execution_count": null,
   "metadata": {},
   "outputs": [],
   "source": [
    "length(grados_entrada) #Longitud del arreglo grados_entrada"
   ]
  },
  {
   "cell_type": "code",
   "execution_count": null,
   "metadata": {},
   "outputs": [],
   "source": [
    "grado_red = sum(grados_entrada) / length(grados_entrada) #Grado de la red, promedio de los grados"
   ]
  },
  {
   "cell_type": "markdown",
   "metadata": {},
   "source": [
    "#### Camino (Path)\n",
    "Es una secuencia de nodos o aristas que están conectadas."
   ]
  },
  {
   "cell_type": "code",
   "execution_count": null,
   "metadata": {},
   "outputs": [],
   "source": [
    "#1con2 primer pedazo\n",
    "i=1 #renglón, nodo inicial\n",
    "c=1 #contador\n",
    "while B[i,c]==0\n",
    "    global c+=1\n",
    "end\n",
    "c"
   ]
  },
  {
   "cell_type": "code",
   "execution_count": null,
   "metadata": {},
   "outputs": [],
   "source": [
    "#1con2 primer pedazo\n",
    "function uno()\n",
    "i=1 #renglón, nodo inicial\n",
    "global c\n",
    "    c=1 #contador\n",
    "while B[i,c]==0\n",
    "    global c+=1\n",
    "end\n",
    "c\n",
    "end"
   ]
  },
  {
   "cell_type": "code",
   "execution_count": null,
   "metadata": {},
   "outputs": [],
   "source": [
    "uno()"
   ]
  },
  {
   "cell_type": "code",
   "execution_count": null,
   "metadata": {},
   "outputs": [],
   "source": [
    "sgh=Array{Tuple{Int64,Int64},1}()"
   ]
  },
  {
   "cell_type": "code",
   "execution_count": null,
   "metadata": {},
   "outputs": [],
   "source": [
    "push!(sgh,(1,1))"
   ]
  },
  {
   "cell_type": "code",
   "execution_count": null,
   "metadata": {},
   "outputs": [],
   "source": [
    "push!(sgh,(4,1))"
   ]
  },
  {
   "cell_type": "code",
   "execution_count": null,
   "metadata": {},
   "outputs": [],
   "source": [
    "#1con2\n",
    "i=1 #renglón, nodo inicial\n",
    "j=2 #columna, nodo final\n",
    "c=1 #contador\n",
    "#camino=0\n",
    "camino = Array{Tuple{Int64,Int64},1}() #Creo un arreglo vacío de tuplas\n",
    "push!(camino,(i,i))\n",
    "\n",
    "\n",
    "if B[i,j]==0\n",
    "    \n",
    "    print(i,j)\n",
    "    camino+=1\n",
    "    print(\"camino:\")\n",
    "    print(camino)\n",
    "    else B[i,j]==\n",
    "end\n",
    "#while B[i,c]==0\n",
    " #   global c+=1\n",
    "#end\n",
    "#print(c, B[c,i])\n",
    "#s=B[c,i]"
   ]
  },
  {
   "cell_type": "code",
   "execution_count": null,
   "metadata": {},
   "outputs": [],
   "source": [
    "B = [0 0 1 0\n",
    "     0 0 1 1\n",
    "     1 1 0 1\n",
    "     0 1 1 0]\n",
    "#Matriz ejemplo"
   ]
  },
  {
   "cell_type": "code",
   "execution_count": null,
   "metadata": {},
   "outputs": [],
   "source": [
    "#prueba\n",
    "function camino()\n",
    "    B = [0 0 1 0\n",
    "         0 0 1 1\n",
    "         1 1 0 1\n",
    "         0 1 1 0]\n",
    "\n",
    "    global i\n",
    "    global j\n",
    "    global c\n",
    "    \n",
    "    i = 1 #renglón, nodo inicial    \n",
    "    j = 2 #columna, nodo final\n",
    "    c = 1 #contador\n",
    "    #camino=0\n",
    "    \n",
    "    camino_v = Array{Int64,1}()\n",
    "    push!(camino_v,i)\n",
    "    \n",
    "    camino_e = Array{Tuple{Int64,Int64},1}() #Creo un arreglo vacío de tuplas\n",
    "    push!(camino_e,(i,i))\n",
    "    \n",
    "    for c = 1:4\n",
    "            \n",
    "        while B[i,c] == 0\n",
    "            c += 1\n",
    "            if B[i,c] == 1\n",
    "                break\n",
    "            push!(camino_v,c)\n",
    "            push!(camino_e,(i,c))\n",
    "            #i = c\n",
    "        end\n",
    "        end\n",
    "    end\n",
    "    end\n",
    "            \n",
    "            #while true\n",
    "             #   global j += 1\n",
    "              #  B[i,j] == 1 && break\n",
    "               # push!(i,j)\n",
    "                #j = i\n",
    "    "
   ]
  },
  {
   "cell_type": "code",
   "execution_count": null,
   "metadata": {},
   "outputs": [],
   "source": [
    "camino()"
   ]
  },
  {
   "cell_type": "code",
   "execution_count": null,
   "metadata": {},
   "outputs": [],
   "source": [
    "#prueba2\n",
    "function camino()\n",
    "\n",
    "    i = 1 #renglón, nodo inicial    \n",
    "    j = 4 #columna, nodo final\n",
    "    \n",
    "    #global i\n",
    "    #global j\n",
    "    global c\n",
    "\n",
    "    c = 1 #contador\n",
    "    #camino=0\n",
    "\n",
    "    camino_v = Array{Int64,1}() #Arreglo vacío\n",
    "    push!(camino_v,i)\n",
    "\n",
    "    camino_e = Array{Tuple{Int64,Int64},1}() #Creo un arreglo vacío de tuplas\n",
    "    push!(camino_e,(i,i))\n",
    "\n",
    "   \n",
    "    while B[i,c] == 0\n",
    "        global c += 1\n",
    "    end\n",
    "    \n",
    "    push!(camino_v,c)\n",
    "    push!(camino_e,(i,c))\n",
    "        #i = c\n",
    "    print(camino_v)\n",
    "    \n",
    "    print(camino_e)\n",
    "    \n",
    "    println(\"La longitud de camino es \")\n",
    "    print(length(camino_v))\n",
    "\n",
    "end    "
   ]
  },
  {
   "cell_type": "code",
   "execution_count": null,
   "metadata": {},
   "outputs": [],
   "source": [
    "camino()"
   ]
  },
  {
   "cell_type": "code",
   "execution_count": null,
   "metadata": {},
   "outputs": [],
   "source": [
    "B = [0 0 1 0\n",
    "     0 0 1 1\n",
    "     1 1 0 1\n",
    "     0 1 1 0]\n",
    "#Matriz ejemplo"
   ]
  },
  {
   "cell_type": "code",
   "execution_count": null,
   "metadata": {},
   "outputs": [],
   "source": [
    "#prueba3 \n",
    "function caminos(i, j)\n",
    "\n",
    "    #i = 1 #renglón, nodo inicial    \n",
    "    #j = 4 #columna, nodo final\n",
    "    global c\n",
    "\n",
    "    c = 1 #contador\n",
    "    anterior = (0, 0)\n",
    "\n",
    "    camino_v = Array{Int64,1}() #Arreglo vacío para los nodos\n",
    "    push!(camino_v,i) #Agrego el nodo inicial\n",
    "\n",
    "    camino_e = Array{Tuple{Int64,Int64},1}() #Creo un arreglo vacío de tuplas para las aristas\n",
    "    #push!(camino_e,(i,i)) \n",
    "    \n",
    "    while i != j\n",
    "        \n",
    "        if anterior[1] == 1 && anterior[2] == i\n",
    "            global c += 1\n",
    "            anterior = (i, c)\n",
    "            \n",
    "        elseif anterior[1] != 1 || anterior[2] != i \n",
    "            while B[i,c] == 0\n",
    "                global c += 1\n",
    "            end\n",
    "            \n",
    "            push!(camino_v,c)\n",
    "            push!(camino_e,(i,c))\n",
    "            \n",
    "            \n",
    "            anterior = (i, c)\n",
    "        \n",
    "            i = c\n",
    "            @show i\n",
    "            c = 1\n",
    "            @show c\n",
    "            \n",
    "        end\n",
    "    end\n",
    "    \n",
    "    print(camino_v)\n",
    "    print(camino_e)\n",
    "    print(length(camino_v)-1)\n",
    "    \n",
    "end"
   ]
  },
  {
   "cell_type": "code",
   "execution_count": null,
   "metadata": {},
   "outputs": [],
   "source": [
    "caminos(1, 3)"
   ]
  },
  {
   "cell_type": "code",
   "execution_count": null,
   "metadata": {},
   "outputs": [],
   "source": [
    "caminos(2, 3)"
   ]
  },
  {
   "cell_type": "code",
   "execution_count": null,
   "metadata": {},
   "outputs": [],
   "source": [
    "caminos(1,2)"
   ]
  },
  {
   "cell_type": "code",
   "execution_count": null,
   "metadata": {},
   "outputs": [],
   "source": [
    "#prueba4\n",
    "function caminos2(i, j)\n",
    "\n",
    "    #i = 1 #renglón, nodo inicial    \n",
    "    #j = 4 #columna, nodo final\n",
    "    global c\n",
    "\n",
    "    c = 1 #contador\n",
    "    anterior = (0, 0)\n",
    "\n",
    "    camino_v = Array{Int64,1}() #Arreglo vacío para los nodos\n",
    "    push!(camino_v,i) #Agrego el nodo inicial\n",
    "\n",
    "    camino_e = Array{Tuple{Int64,Int64},1}() #Creo un arreglo vacío de tuplas para las aristas\n",
    "    #push!(camino_e,(i,i)) \n",
    "    \n",
    "    while i != j\n",
    "        \n",
    "        if anterior[1] == 1 && anterior[2] == i\n",
    "            global c += 1\n",
    "            anterior = (i, c)\n",
    "            \n",
    "        elseif anterior[1] != 1 || anterior[2] != i \n",
    "            while A[i,c] == 0\n",
    "                global c += 1\n",
    "            end\n",
    "            \n",
    "            push!(camino_v,c)\n",
    "            push!(camino_e,(i,c))\n",
    "            \n",
    "            \n",
    "            anterior = (i, c)\n",
    "        \n",
    "            i = c\n",
    "            @show i\n",
    "            c = 1\n",
    "            @show c\n",
    "            \n",
    "        end\n",
    "    end\n",
    "    \n",
    "    print(camino_v)\n",
    "    print(camino_e)\n",
    "    print(length(camino_v)-1)\n",
    "    \n",
    "end"
   ]
  },
  {
   "cell_type": "code",
   "execution_count": null,
   "metadata": {},
   "outputs": [],
   "source": [
    "caminos2(1,2)"
   ]
  },
  {
   "cell_type": "code",
   "execution_count": null,
   "metadata": {},
   "outputs": [],
   "source": [
    "caminos2(1,3)"
   ]
  },
  {
   "cell_type": "markdown",
   "metadata": {},
   "source": [
    "##### Función para encontrar todos los posibles caminos que salen de un cierto nodo."
   ]
  },
  {
   "cell_type": "code",
   "execution_count": 1,
   "metadata": {},
   "outputs": [
    {
     "data": {
      "text/plain": [
       "4×4 Array{Int64,2}:\n",
       " 0  0  1  0\n",
       " 0  0  1  1\n",
       " 1  1  0  1\n",
       " 0  1  1  0"
      ]
     },
     "execution_count": 1,
     "metadata": {},
     "output_type": "execute_result"
    }
   ],
   "source": [
    "B = [0 0 1 0\n",
    "     0 0 1 1\n",
    "     1 1 0 1\n",
    "     0 1 1 0]"
   ]
  },
  {
   "cell_type": "code",
   "execution_count": null,
   "metadata": {},
   "outputs": [],
   "source": [
    "B[1, :]"
   ]
  },
  {
   "cell_type": "code",
   "execution_count": null,
   "metadata": {},
   "outputs": [],
   "source": [
    "B[1, :][1]"
   ]
  },
  {
   "cell_type": "code",
   "execution_count": null,
   "metadata": {},
   "outputs": [],
   "source": [
    "B[1, :][2]"
   ]
  },
  {
   "cell_type": "code",
   "execution_count": null,
   "metadata": {},
   "outputs": [],
   "source": [
    "B[1, :][3]"
   ]
  },
  {
   "cell_type": "code",
   "execution_count": null,
   "metadata": {},
   "outputs": [],
   "source": [
    "B[1, :][4]"
   ]
  },
  {
   "cell_type": "code",
   "execution_count": null,
   "metadata": {},
   "outputs": [],
   "source": [
    "B[2, :]"
   ]
  },
  {
   "cell_type": "code",
   "execution_count": null,
   "metadata": {},
   "outputs": [],
   "source": []
  },
  {
   "cell_type": "code",
   "execution_count": 5,
   "metadata": {},
   "outputs": [
    {
     "data": {
      "text/plain": [
       "1-element Array{Array{Int64,1},1}:\n",
       " [1, 2]"
      ]
     },
     "execution_count": 5,
     "metadata": {},
     "output_type": "execute_result"
    }
   ],
   "source": [
    "a=[[1, 2]]"
   ]
  },
  {
   "cell_type": "code",
   "execution_count": 8,
   "metadata": {},
   "outputs": [
    {
     "data": {
      "text/plain": [
       "2-element Array{Array{Int64,1},1}:\n",
       " [1, 2]\n",
       " [2, 3]"
      ]
     },
     "execution_count": 8,
     "metadata": {},
     "output_type": "execute_result"
    }
   ],
   "source": [
    "push!(a,[2,3])"
   ]
  },
  {
   "cell_type": "code",
   "execution_count": 9,
   "metadata": {},
   "outputs": [
    {
     "data": {
      "text/plain": [
       "3-element Array{Array{Int64,1},1}:\n",
       " [1, 2]      \n",
       " [2, 3]      \n",
       " [1, 5, 8, 3]"
      ]
     },
     "execution_count": 9,
     "metadata": {},
     "output_type": "execute_result"
    }
   ],
   "source": [
    "push!(a,[1,5,8,3])"
   ]
  },
  {
   "cell_type": "code",
   "execution_count": 16,
   "metadata": {},
   "outputs": [
    {
     "data": {
      "text/plain": [
       "0-element Array{Any,1}"
      ]
     },
     "execution_count": 16,
     "metadata": {},
     "output_type": "execute_result"
    }
   ],
   "source": [
    "a=[]"
   ]
  },
  {
   "cell_type": "code",
   "execution_count": 18,
   "metadata": {},
   "outputs": [
    {
     "data": {
      "text/plain": [
       "4-element Array{Any,1}:\n",
       " [1]   \n",
       " [2, 4]\n",
       " [1]   \n",
       " [2, 4]"
      ]
     },
     "execution_count": 18,
     "metadata": {},
     "output_type": "execute_result"
    }
   ],
   "source": [
    "push!(a,[1],[2,4])"
   ]
  },
  {
   "cell_type": "code",
   "execution_count": 22,
   "metadata": {},
   "outputs": [
    {
     "data": {
      "text/plain": [
       "1-element Array{Int64,1}:\n",
       " 1"
      ]
     },
     "execution_count": 22,
     "metadata": {},
     "output_type": "execute_result"
    }
   ],
   "source": [
    "a[3]"
   ]
  },
  {
   "cell_type": "code",
   "execution_count": 23,
   "metadata": {},
   "outputs": [
    {
     "data": {
      "text/plain": [
       "3-element Array{Int64,1}:\n",
       " 2\n",
       " 4\n",
       " 8"
      ]
     },
     "execution_count": 23,
     "metadata": {},
     "output_type": "execute_result"
    }
   ],
   "source": [
    "push!(a[2], 8)"
   ]
  },
  {
   "cell_type": "code",
   "execution_count": 24,
   "metadata": {},
   "outputs": [
    {
     "data": {
      "text/plain": [
       "4-element Array{Any,1}:\n",
       " [1]      \n",
       " [2, 4, 8]\n",
       " [1]      \n",
       " [2, 4]   "
      ]
     },
     "execution_count": 24,
     "metadata": {},
     "output_type": "execute_result"
    }
   ],
   "source": [
    "a"
   ]
  },
  {
   "cell_type": "code",
   "execution_count": 54,
   "metadata": {},
   "outputs": [
    {
     "name": "stdout",
     "output_type": "stream",
     "text": [
      "search: \u001b[0m\u001b[1mV\u001b[22m\u001b[0m\u001b[1me\u001b[22m\u001b[0m\u001b[1mc\u001b[22m\u001b[0m\u001b[1mt\u001b[22m\u001b[0m\u001b[1mo\u001b[22m\u001b[0m\u001b[1mr\u001b[22m Bit\u001b[0m\u001b[1mV\u001b[22m\u001b[0m\u001b[1me\u001b[22m\u001b[0m\u001b[1mc\u001b[22m\u001b[0m\u001b[1mt\u001b[22m\u001b[0m\u001b[1mo\u001b[22m\u001b[0m\u001b[1mr\u001b[22m Dense\u001b[0m\u001b[1mV\u001b[22m\u001b[0m\u001b[1me\u001b[22m\u001b[0m\u001b[1mc\u001b[22m\u001b[0m\u001b[1mt\u001b[22m\u001b[0m\u001b[1mo\u001b[22m\u001b[0m\u001b[1mr\u001b[22m Strided\u001b[0m\u001b[1mV\u001b[22m\u001b[0m\u001b[1me\u001b[22m\u001b[0m\u001b[1mc\u001b[22m\u001b[0m\u001b[1mt\u001b[22m\u001b[0m\u001b[1mo\u001b[22m\u001b[0m\u001b[1mr\u001b[22m Abstract\u001b[0m\u001b[1mV\u001b[22m\u001b[0m\u001b[1me\u001b[22m\u001b[0m\u001b[1mc\u001b[22m\u001b[0m\u001b[1mt\u001b[22m\u001b[0m\u001b[1mo\u001b[22m\u001b[0m\u001b[1mr\u001b[22m\n",
      "\n"
     ]
    },
    {
     "data": {
      "text/markdown": [
       "```\n",
       "Vector{T} <: AbstractVector{T}\n",
       "```\n",
       "\n",
       "One-dimensional dense array with elements of type `T`, often used to represent a mathematical vector. Alias for [`Array{T,1}`](@ref).\n",
       "\n",
       "---\n",
       "\n",
       "```\n",
       "Vector{T}(undef, n)\n",
       "```\n",
       "\n",
       "Construct an uninitialized [`Vector{T}`](@ref) of length `n`. See [`undef`](@ref).\n",
       "\n",
       "# Examples\n",
       "\n",
       "```julia-repl\n",
       "julia> Vector{Float64}(undef, 3)\n",
       "3-element Array{Float64,1}:\n",
       " 6.90966e-310\n",
       " 6.90966e-310\n",
       " 6.90966e-310\n",
       "```\n",
       "\n",
       "---\n",
       "\n",
       "```\n",
       "Vector{T}(nothing, m)\n",
       "```\n",
       "\n",
       "Construct a [`Vector{T}`](@ref) of length `m`, initialized with [`nothing`](@ref) entries. Element type `T` must be able to hold these values, i.e. `Nothing <: T`.\n",
       "\n",
       "# Examples\n",
       "\n",
       "```jldoctest\n",
       "julia> Vector{Union{Nothing, String}}(nothing, 2)\n",
       "2-element Array{Union{Nothing, String},1}:\n",
       " nothing\n",
       " nothing\n",
       "```\n",
       "\n",
       "---\n",
       "\n",
       "```\n",
       "Vector{T}(missing, m)\n",
       "```\n",
       "\n",
       "Construct a [`Vector{T}`](@ref) of length `m`, initialized with [`missing`](@ref) entries. Element type `T` must be able to hold these values, i.e. `Missing <: T`.\n",
       "\n",
       "# Examples\n",
       "\n",
       "```jldoctest\n",
       "julia> Vector{Union{Missing, String}}(missing, 2)\n",
       "2-element Array{Union{Missing, String},1}:\n",
       " missing\n",
       " missing\n",
       "```\n"
      ],
      "text/plain": [
       "\u001b[36m  Vector{T} <: AbstractVector{T}\u001b[39m\n",
       "\n",
       "  One-dimensional dense array with elements of type \u001b[36mT\u001b[39m, often used to represent\n",
       "  a mathematical vector. Alias for \u001b[36mArray{T,1}\u001b[39m.\n",
       "\n",
       "  ────────────────────────────────────────────────────────────────────────────\n",
       "\n",
       "\u001b[36m  Vector{T}(undef, n)\u001b[39m\n",
       "\n",
       "  Construct an uninitialized \u001b[36mVector{T}\u001b[39m of length \u001b[36mn\u001b[39m. See \u001b[36mundef\u001b[39m.\n",
       "\n",
       "\u001b[1m  Examples\u001b[22m\n",
       "\u001b[1m  ≡≡≡≡≡≡≡≡≡≡\u001b[22m\n",
       "\n",
       "\u001b[36m  julia> Vector{Float64}(undef, 3)\u001b[39m\n",
       "\u001b[36m  3-element Array{Float64,1}:\u001b[39m\n",
       "\u001b[36m   6.90966e-310\u001b[39m\n",
       "\u001b[36m   6.90966e-310\u001b[39m\n",
       "\u001b[36m   6.90966e-310\u001b[39m\n",
       "\n",
       "  ────────────────────────────────────────────────────────────────────────────\n",
       "\n",
       "\u001b[36m  Vector{T}(nothing, m)\u001b[39m\n",
       "\n",
       "  Construct a \u001b[36mVector{T}\u001b[39m of length \u001b[36mm\u001b[39m, initialized with \u001b[36mnothing\u001b[39m entries. Element\n",
       "  type \u001b[36mT\u001b[39m must be able to hold these values, i.e. \u001b[36mNothing <: T\u001b[39m.\n",
       "\n",
       "\u001b[1m  Examples\u001b[22m\n",
       "\u001b[1m  ≡≡≡≡≡≡≡≡≡≡\u001b[22m\n",
       "\n",
       "\u001b[36m  julia> Vector{Union{Nothing, String}}(nothing, 2)\u001b[39m\n",
       "\u001b[36m  2-element Array{Union{Nothing, String},1}:\u001b[39m\n",
       "\u001b[36m   nothing\u001b[39m\n",
       "\u001b[36m   nothing\u001b[39m\n",
       "\n",
       "  ────────────────────────────────────────────────────────────────────────────\n",
       "\n",
       "\u001b[36m  Vector{T}(missing, m)\u001b[39m\n",
       "\n",
       "  Construct a \u001b[36mVector{T}\u001b[39m of length \u001b[36mm\u001b[39m, initialized with \u001b[36mmissing\u001b[39m entries. Element\n",
       "  type \u001b[36mT\u001b[39m must be able to hold these values, i.e. \u001b[36mMissing <: T\u001b[39m.\n",
       "\n",
       "\u001b[1m  Examples\u001b[22m\n",
       "\u001b[1m  ≡≡≡≡≡≡≡≡≡≡\u001b[22m\n",
       "\n",
       "\u001b[36m  julia> Vector{Union{Missing, String}}(missing, 2)\u001b[39m\n",
       "\u001b[36m  2-element Array{Union{Missing, String},1}:\u001b[39m\n",
       "\u001b[36m   missing\u001b[39m\n",
       "\u001b[36m   missing\u001b[39m"
      ]
     },
     "execution_count": 54,
     "metadata": {},
     "output_type": "execute_result"
    }
   ],
   "source": [
    "?Vector"
   ]
  },
  {
   "cell_type": "code",
   "execution_count": 81,
   "metadata": {},
   "outputs": [
    {
     "data": {
      "text/plain": [
       "3-element Array{Array,1}:\n",
       " #undef\n",
       " #undef\n",
       " #undef"
      ]
     },
     "execution_count": 81,
     "metadata": {},
     "output_type": "execute_result"
    }
   ],
   "source": [
    "b=Vector{Array}(undef,3)"
   ]
  },
  {
   "cell_type": "code",
   "execution_count": 84,
   "metadata": {},
   "outputs": [
    {
     "ename": "LoadError",
     "evalue": "syntax: extra token \"0.1\" after end of expression",
     "output_type": "error",
     "traceback": [
      "syntax: extra token \"0.1\" after end of expression",
      ""
     ]
    }
   ],
   "source": []
  },
  {
   "cell_type": "code",
   "execution_count": 52,
   "metadata": {},
   "outputs": [
    {
     "data": {
      "text/plain": [
       "2-element Array{Array{Any,1},1}:\n",
       " []\n",
       " []"
      ]
     },
     "execution_count": 52,
     "metadata": {},
     "output_type": "execute_result"
    }
   ],
   "source": [
    "b=[[],[]]"
   ]
  },
  {
   "cell_type": "code",
   "execution_count": 61,
   "metadata": {},
   "outputs": [
    {
     "data": {
      "text/plain": [
       "1-element Array{Array{Any,1},1}:\n",
       " []"
      ]
     },
     "execution_count": 61,
     "metadata": {},
     "output_type": "execute_result"
    }
   ],
   "source": [
    "principal=[[]]"
   ]
  },
  {
   "cell_type": "code",
   "execution_count": 62,
   "metadata": {},
   "outputs": [
    {
     "data": {
      "text/plain": [
       "0-element Array{Any,1}"
      ]
     },
     "execution_count": 62,
     "metadata": {},
     "output_type": "execute_result"
    }
   ],
   "source": [
    "principal[1]"
   ]
  },
  {
   "cell_type": "code",
   "execution_count": 63,
   "metadata": {},
   "outputs": [
    {
     "data": {
      "text/plain": [
       "1-element Array{Any,1}:\n",
       " 2"
      ]
     },
     "execution_count": 63,
     "metadata": {},
     "output_type": "execute_result"
    }
   ],
   "source": [
    "push!(principal[1],2)"
   ]
  },
  {
   "cell_type": "code",
   "execution_count": 64,
   "metadata": {},
   "outputs": [
    {
     "data": {
      "text/plain": [
       "1-element Array{Array{Any,1},1}:\n",
       " [2]"
      ]
     },
     "execution_count": 64,
     "metadata": {},
     "output_type": "execute_result"
    }
   ],
   "source": [
    "principal"
   ]
  },
  {
   "cell_type": "code",
   "execution_count": 65,
   "metadata": {},
   "outputs": [
    {
     "data": {
      "text/plain": [
       "2-element Array{Any,1}:\n",
       " 2\n",
       " 3"
      ]
     },
     "execution_count": 65,
     "metadata": {},
     "output_type": "execute_result"
    }
   ],
   "source": [
    "push!(principal[1],3)"
   ]
  },
  {
   "cell_type": "code",
   "execution_count": 66,
   "metadata": {},
   "outputs": [
    {
     "data": {
      "text/plain": [
       "1-element Array{Array{Any,1},1}:\n",
       " [2, 3]"
      ]
     },
     "execution_count": 66,
     "metadata": {},
     "output_type": "execute_result"
    }
   ],
   "source": [
    "principal"
   ]
  },
  {
   "cell_type": "code",
   "execution_count": 69,
   "metadata": {},
   "outputs": [
    {
     "data": {
      "text/plain": [
       "2-element Array{Any,1}:\n",
       " 2\n",
       " 3"
      ]
     },
     "execution_count": 69,
     "metadata": {},
     "output_type": "execute_result"
    }
   ],
   "source": [
    "principal[1]"
   ]
  },
  {
   "cell_type": "code",
   "execution_count": 70,
   "metadata": {},
   "outputs": [
    {
     "data": {
      "text/plain": [
       "2-element Array{Any,1}:\n",
       " 2\n",
       " 3"
      ]
     },
     "execution_count": 70,
     "metadata": {},
     "output_type": "execute_result"
    }
   ],
   "source": [
    "push!(principal[])"
   ]
  },
  {
   "cell_type": "code",
   "execution_count": null,
   "metadata": {},
   "outputs": [],
   "source": []
  },
  {
   "cell_type": "code",
   "execution_count": 71,
   "metadata": {},
   "outputs": [
    {
     "data": {
      "text/plain": [
       "1-element Array{Array{Any,1},1}:\n",
       " [2, 3]"
      ]
     },
     "execution_count": 71,
     "metadata": {},
     "output_type": "execute_result"
    }
   ],
   "source": [
    "principal"
   ]
  },
  {
   "cell_type": "code",
   "execution_count": 88,
   "metadata": {},
   "outputs": [
    {
     "data": {
      "text/plain": [
       "2×3 Array{Float64,2}:\n",
       " 2.27228e-314  2.27232e-314  2.27232e-314\n",
       " 2.27228e-314  2.27232e-314  5.92879e-323"
      ]
     },
     "execution_count": 88,
     "metadata": {},
     "output_type": "execute_result"
    }
   ],
   "source": [
    "mat=Matrix{Float64}(undef, 2,3)"
   ]
  },
  {
   "cell_type": "code",
   "execution_count": 87,
   "metadata": {},
   "outputs": [
    {
     "data": {
      "text/plain": [
       "6-element Array{Float64,1}:\n",
       " 0.0              \n",
       " 2.2637435093e-314\n",
       " 1.5e-323         \n",
       " 2.2637757264e-314\n",
       " 2.26374362e-314  \n",
       " 0.0              "
      ]
     },
     "execution_count": 87,
     "metadata": {},
     "output_type": "execute_result"
    }
   ],
   "source": [
    "Vector{Float64}(undef,6)"
   ]
  },
  {
   "cell_type": "code",
   "execution_count": 72,
   "metadata": {},
   "outputs": [
    {
     "name": "stdout",
     "output_type": "stream",
     "text": [
      "search: \u001b[0m\u001b[1mM\u001b[22m\u001b[0m\u001b[1ma\u001b[22m\u001b[0m\u001b[1mt\u001b[22m\u001b[0m\u001b[1mr\u001b[22m\u001b[0m\u001b[1mi\u001b[22m\u001b[0m\u001b[1mx\u001b[22m Bit\u001b[0m\u001b[1mM\u001b[22m\u001b[0m\u001b[1ma\u001b[22m\u001b[0m\u001b[1mt\u001b[22m\u001b[0m\u001b[1mr\u001b[22m\u001b[0m\u001b[1mi\u001b[22m\u001b[0m\u001b[1mx\u001b[22m Dense\u001b[0m\u001b[1mM\u001b[22m\u001b[0m\u001b[1ma\u001b[22m\u001b[0m\u001b[1mt\u001b[22m\u001b[0m\u001b[1mr\u001b[22m\u001b[0m\u001b[1mi\u001b[22m\u001b[0m\u001b[1mx\u001b[22m Strided\u001b[0m\u001b[1mM\u001b[22m\u001b[0m\u001b[1ma\u001b[22m\u001b[0m\u001b[1mt\u001b[22m\u001b[0m\u001b[1mr\u001b[22m\u001b[0m\u001b[1mi\u001b[22m\u001b[0m\u001b[1mx\u001b[22m Abstract\u001b[0m\u001b[1mM\u001b[22m\u001b[0m\u001b[1ma\u001b[22m\u001b[0m\u001b[1mt\u001b[22m\u001b[0m\u001b[1mr\u001b[22m\u001b[0m\u001b[1mi\u001b[22m\u001b[0m\u001b[1mx\u001b[22m\n",
      "\n"
     ]
    },
    {
     "data": {
      "text/markdown": [
       "```\n",
       "Matrix{T} <: AbstractMatrix{T}\n",
       "```\n",
       "\n",
       "Two-dimensional dense array with elements of type `T`, often used to represent a mathematical matrix. Alias for [`Array{T,2}`](@ref).\n",
       "\n",
       "---\n",
       "\n",
       "```\n",
       "Matrix{T}(undef, m, n)\n",
       "```\n",
       "\n",
       "Construct an uninitialized [`Matrix{T}`](@ref) of size `m`×`n`. See [`undef`](@ref).\n",
       "\n",
       "# Examples\n",
       "\n",
       "```julia-repl\n",
       "julia> Matrix{Float64}(undef, 2, 3)\n",
       "2×3 Array{Float64,2}:\n",
       " 6.93517e-310  6.93517e-310  6.93517e-310\n",
       " 6.93517e-310  6.93517e-310  1.29396e-320\n",
       "```\n",
       "\n",
       "---\n",
       "\n",
       "```\n",
       "Matrix{T}(nothing, m, n)\n",
       "```\n",
       "\n",
       "Construct a [`Matrix{T}`](@ref) of size `m`×`n`, initialized with [`nothing`](@ref) entries. Element type `T` must be able to hold these values, i.e. `Nothing <: T`.\n",
       "\n",
       "# Examples\n",
       "\n",
       "```jldoctest\n",
       "julia> Matrix{Union{Nothing, String}}(nothing, 2, 3)\n",
       "2×3 Array{Union{Nothing, String},2}:\n",
       " nothing  nothing  nothing\n",
       " nothing  nothing  nothing\n",
       "```\n",
       "\n",
       "---\n",
       "\n",
       "```\n",
       "Matrix{T}(missing, m, n)\n",
       "```\n",
       "\n",
       "Construct a [`Matrix{T}`](@ref) of size `m`×`n`, initialized with [`missing`](@ref) entries. Element type `T` must be able to hold these values, i.e. `Missing <: T`.\n",
       "\n",
       "# Examples\n",
       "\n",
       "```jldoctest\n",
       "julia> Matrix{Union{Missing, String}}(missing, 2, 3)\n",
       "2×3 Array{Union{Missing, String},2}:\n",
       " missing  missing  missing\n",
       " missing  missing  missing\n",
       "```\n"
      ],
      "text/plain": [
       "\u001b[36m  Matrix{T} <: AbstractMatrix{T}\u001b[39m\n",
       "\n",
       "  Two-dimensional dense array with elements of type \u001b[36mT\u001b[39m, often used to represent\n",
       "  a mathematical matrix. Alias for \u001b[36mArray{T,2}\u001b[39m.\n",
       "\n",
       "  ────────────────────────────────────────────────────────────────────────────\n",
       "\n",
       "\u001b[36m  Matrix{T}(undef, m, n)\u001b[39m\n",
       "\n",
       "  Construct an uninitialized \u001b[36mMatrix{T}\u001b[39m of size \u001b[36mm\u001b[39m×\u001b[36mn\u001b[39m. See \u001b[36mundef\u001b[39m.\n",
       "\n",
       "\u001b[1m  Examples\u001b[22m\n",
       "\u001b[1m  ≡≡≡≡≡≡≡≡≡≡\u001b[22m\n",
       "\n",
       "\u001b[36m  julia> Matrix{Float64}(undef, 2, 3)\u001b[39m\n",
       "\u001b[36m  2×3 Array{Float64,2}:\u001b[39m\n",
       "\u001b[36m   6.93517e-310  6.93517e-310  6.93517e-310\u001b[39m\n",
       "\u001b[36m   6.93517e-310  6.93517e-310  1.29396e-320\u001b[39m\n",
       "\n",
       "  ────────────────────────────────────────────────────────────────────────────\n",
       "\n",
       "\u001b[36m  Matrix{T}(nothing, m, n)\u001b[39m\n",
       "\n",
       "  Construct a \u001b[36mMatrix{T}\u001b[39m of size \u001b[36mm\u001b[39m×\u001b[36mn\u001b[39m, initialized with \u001b[36mnothing\u001b[39m entries. Element\n",
       "  type \u001b[36mT\u001b[39m must be able to hold these values, i.e. \u001b[36mNothing <: T\u001b[39m.\n",
       "\n",
       "\u001b[1m  Examples\u001b[22m\n",
       "\u001b[1m  ≡≡≡≡≡≡≡≡≡≡\u001b[22m\n",
       "\n",
       "\u001b[36m  julia> Matrix{Union{Nothing, String}}(nothing, 2, 3)\u001b[39m\n",
       "\u001b[36m  2×3 Array{Union{Nothing, String},2}:\u001b[39m\n",
       "\u001b[36m   nothing  nothing  nothing\u001b[39m\n",
       "\u001b[36m   nothing  nothing  nothing\u001b[39m\n",
       "\n",
       "  ────────────────────────────────────────────────────────────────────────────\n",
       "\n",
       "\u001b[36m  Matrix{T}(missing, m, n)\u001b[39m\n",
       "\n",
       "  Construct a \u001b[36mMatrix{T}\u001b[39m of size \u001b[36mm\u001b[39m×\u001b[36mn\u001b[39m, initialized with \u001b[36mmissing\u001b[39m entries. Element\n",
       "  type \u001b[36mT\u001b[39m must be able to hold these values, i.e. \u001b[36mMissing <: T\u001b[39m.\n",
       "\n",
       "\u001b[1m  Examples\u001b[22m\n",
       "\u001b[1m  ≡≡≡≡≡≡≡≡≡≡\u001b[22m\n",
       "\n",
       "\u001b[36m  julia> Matrix{Union{Missing, String}}(missing, 2, 3)\u001b[39m\n",
       "\u001b[36m  2×3 Array{Union{Missing, String},2}:\u001b[39m\n",
       "\u001b[36m   missing  missing  missing\u001b[39m\n",
       "\u001b[36m   missing  missing  missing\u001b[39m"
      ]
     },
     "execution_count": 72,
     "metadata": {},
     "output_type": "execute_result"
    }
   ],
   "source": [
    "?Matrix"
   ]
  },
  {
   "cell_type": "code",
   "execution_count": 95,
   "metadata": {},
   "outputs": [
    {
     "data": {
      "text/plain": [
       "6-element Array{Tuple{Int64,Int64},1}:\n",
       " (1, 1)\n",
       " (2, 1)\n",
       " (2, 2)\n",
       " (3, 1)\n",
       " (3, 2)\n",
       " (3, 3)"
      ]
     },
     "execution_count": 95,
     "metadata": {},
     "output_type": "execute_result"
    }
   ],
   "source": [
    "[(i,j) for i=1:3 for j=1:i]"
   ]
  },
  {
   "cell_type": "code",
   "execution_count": 105,
   "metadata": {},
   "outputs": [
    {
     "data": {
      "text/plain": [
       "6-element Array{Array{Int64,1},1}:\n",
       " [1]\n",
       " [2]\n",
       " [2]\n",
       " [3]\n",
       " [3]\n",
       " [3]"
      ]
     },
     "execution_count": 105,
     "metadata": {},
     "output_type": "execute_result"
    }
   ],
   "source": [
    "b=[[i] for i=1:3 for j=1:i]"
   ]
  },
  {
   "cell_type": "code",
   "execution_count": 100,
   "metadata": {},
   "outputs": [
    {
     "data": {
      "text/plain": [
       "2-element Array{Int64,1}:\n",
       " 2\n",
       " 4"
      ]
     },
     "execution_count": 100,
     "metadata": {},
     "output_type": "execute_result"
    }
   ],
   "source": [
    "push!(b[2], 4)"
   ]
  },
  {
   "cell_type": "code",
   "execution_count": 101,
   "metadata": {},
   "outputs": [
    {
     "data": {
      "text/plain": [
       "6-element Array{Array{Int64,1},1}:\n",
       " [1]   \n",
       " [2, 4]\n",
       " [2]   \n",
       " [3]   \n",
       " [3]   \n",
       " [3]   "
      ]
     },
     "execution_count": 101,
     "metadata": {},
     "output_type": "execute_result"
    }
   ],
   "source": [
    "b"
   ]
  },
  {
   "cell_type": "markdown",
   "metadata": {},
   "source": [
    "#### Otra prueba"
   ]
  },
  {
   "cell_type": "code",
   "execution_count": 160,
   "metadata": {},
   "outputs": [
    {
     "data": {
      "text/plain": [
       "4×4 Array{Int64,2}:\n",
       " 0  0  1  0\n",
       " 0  0  1  1\n",
       " 1  1  0  1\n",
       " 0  1  1  0"
      ]
     },
     "execution_count": 160,
     "metadata": {},
     "output_type": "execute_result"
    }
   ],
   "source": [
    "B = [0 0 1 0\n",
    "     0 0 1 1\n",
    "     1 1 0 1\n",
    "     0 1 1 0]"
   ]
  },
  {
   "cell_type": "code",
   "execution_count": 120,
   "metadata": {},
   "outputs": [
    {
     "data": {
      "text/plain": [
       "4-element Array{Int64,1}:\n",
       " 0\n",
       " 0\n",
       " 1\n",
       " 0"
      ]
     },
     "execution_count": 120,
     "metadata": {},
     "output_type": "execute_result"
    }
   ],
   "source": [
    "B[1,:]"
   ]
  },
  {
   "cell_type": "code",
   "execution_count": 199,
   "metadata": {},
   "outputs": [
    {
     "data": {
      "text/plain": [
       "8-element Array{Array{Int64,1},1}:\n",
       " [1, 3]\n",
       " [2, 3]\n",
       " [2, 4]\n",
       " [3, 1]\n",
       " [3, 2]\n",
       " [3, 4]\n",
       " [4, 2]\n",
       " [4, 3]"
      ]
     },
     "execution_count": 199,
     "metadata": {},
     "output_type": "execute_result"
    }
   ],
   "source": [
    "#### Sí!!\n",
    "i=1\n",
    "path2 = [[i,j] for i=1:length(B[i, :]) for j=1:length(B[i, :]) if B[i, :][j] != 0]\n"
   ]
  },
  {
   "cell_type": "code",
   "execution_count": 151,
   "metadata": {},
   "outputs": [
    {
     "data": {
      "text/plain": [
       "2-element Array{Int64,1}:\n",
       " 3\n",
       " 1"
      ]
     },
     "execution_count": 151,
     "metadata": {},
     "output_type": "execute_result"
    }
   ],
   "source": [
    "path2[4]"
   ]
  },
  {
   "cell_type": "code",
   "execution_count": 152,
   "metadata": {},
   "outputs": [
    {
     "data": {
      "text/plain": [
       "3-element Array{Int64,1}:\n",
       " 3\n",
       " 2\n",
       " 3"
      ]
     },
     "execution_count": 152,
     "metadata": {},
     "output_type": "execute_result"
    }
   ],
   "source": [
    "push!(path2[5],3)"
   ]
  },
  {
   "cell_type": "code",
   "execution_count": 153,
   "metadata": {},
   "outputs": [
    {
     "data": {
      "text/plain": [
       "8-element Array{Array{Int64,1},1}:\n",
       " [1, 3]   \n",
       " [2, 3]   \n",
       " [2, 4]   \n",
       " [3, 1]   \n",
       " [3, 2, 3]\n",
       " [3, 4]   \n",
       " [4, 2]   \n",
       " [4, 3]   "
      ]
     },
     "execution_count": 153,
     "metadata": {},
     "output_type": "execute_result"
    }
   ],
   "source": [
    "path2"
   ]
  },
  {
   "cell_type": "code",
   "execution_count": 154,
   "metadata": {},
   "outputs": [
    {
     "data": {
      "text/plain": [
       "3-element Array{Int64,1}:\n",
       " 3\n",
       " 2\n",
       " 3"
      ]
     },
     "execution_count": 154,
     "metadata": {},
     "output_type": "execute_result"
    }
   ],
   "source": [
    "path2[5]"
   ]
  },
  {
   "cell_type": "code",
   "execution_count": 155,
   "metadata": {},
   "outputs": [
    {
     "data": {
      "text/plain": [
       "2-element Array{Int64,1}:\n",
       " 3\n",
       " 2"
      ]
     },
     "execution_count": 155,
     "metadata": {},
     "output_type": "execute_result"
    }
   ],
   "source": [
    "unique(path2[5])"
   ]
  },
  {
   "cell_type": "code",
   "execution_count": 156,
   "metadata": {},
   "outputs": [
    {
     "data": {
      "text/plain": [
       "8-element Array{Array{Int64,1},1}:\n",
       " [1, 3]   \n",
       " [2, 3]   \n",
       " [2, 4]   \n",
       " [3, 1]   \n",
       " [3, 2, 3]\n",
       " [3, 4]   \n",
       " [4, 2]   \n",
       " [4, 3]   "
      ]
     },
     "execution_count": 156,
     "metadata": {},
     "output_type": "execute_result"
    }
   ],
   "source": [
    "path2"
   ]
  },
  {
   "cell_type": "markdown",
   "metadata": {},
   "source": [
    "#### prueba para siguiente paso"
   ]
  },
  {
   "cell_type": "code",
   "execution_count": 200,
   "metadata": {},
   "outputs": [
    {
     "data": {
      "text/plain": [
       "3-element Array{Array{Int64,1},1}:\n",
       " [3, 1]\n",
       " [3, 2]\n",
       " [3, 4]"
      ]
     },
     "execution_count": 200,
     "metadata": {},
     "output_type": "execute_result"
    }
   ],
   "source": [
    "#### Sí!!\n",
    "i=3\n",
    "path2 = [[i,k] for k=1:length(B[i, :]) if B[i, :][k] != 0] #for j=1:length(B[i, :]) if B[i, :][j] != 0]    \n",
    "            #k=path2[end]\n",
    "            #for m = 1:length(B[k, :])\n",
    "             #       @show m\n",
    "              #  end\n",
    "            #push!(path2[m]for j = 1:length(B[j, :]) for k=1:length(B[j, :]) if B[j, :][k] != 0\n",
    "\n"
   ]
  },
  {
   "cell_type": "code",
   "execution_count": 187,
   "metadata": {},
   "outputs": [
    {
     "data": {
      "text/plain": [
       "2-element Array{Array{Int64,1},1}:\n",
       " [2, 3]\n",
       " [2, 4]"
      ]
     },
     "execution_count": 187,
     "metadata": {},
     "output_type": "execute_result"
    }
   ],
   "source": [
    "path2"
   ]
  },
  {
   "cell_type": "code",
   "execution_count": 188,
   "metadata": {},
   "outputs": [
    {
     "data": {
      "text/plain": [
       "2-element Array{Int64,1}:\n",
       " 2\n",
       " 4"
      ]
     },
     "execution_count": 188,
     "metadata": {},
     "output_type": "execute_result"
    }
   ],
   "source": [
    "k=path2[end]\n",
    "            #for m = 1:length(B[k, :])\n",
    "             #       @show m\n",
    "              #  end\n",
    "            #push!(path2[m]for j = 1:length(B[j, :]) for k=1:length(B[j, :]) if B[j, :][k] != 0\n",
    "\n",
    "\n"
   ]
  },
  {
   "cell_type": "markdown",
   "metadata": {},
   "source": [
    "`path2[end]` se refiere al último arreglo, no al último valor de cada arreglo de arreglo."
   ]
  },
  {
   "cell_type": "code",
   "execution_count": 189,
   "metadata": {},
   "outputs": [
    {
     "data": {
      "text/plain": [
       "2"
      ]
     },
     "execution_count": 189,
     "metadata": {},
     "output_type": "execute_result"
    }
   ],
   "source": [
    "length(path2)"
   ]
  },
  {
   "cell_type": "code",
   "execution_count": 194,
   "metadata": {},
   "outputs": [
    {
     "data": {
      "text/plain": [
       "2-element Array{Int64,1}:\n",
       " 2\n",
       " 4"
      ]
     },
     "execution_count": 194,
     "metadata": {},
     "output_type": "execute_result"
    }
   ],
   "source": [
    "as =path2[2]"
   ]
  },
  {
   "cell_type": "code",
   "execution_count": 195,
   "metadata": {},
   "outputs": [
    {
     "data": {
      "text/plain": [
       "2-element Array{Int64,1}:\n",
       " 2\n",
       " 4"
      ]
     },
     "execution_count": 195,
     "metadata": {},
     "output_type": "execute_result"
    }
   ],
   "source": [
    "as"
   ]
  },
  {
   "cell_type": "code",
   "execution_count": 196,
   "metadata": {},
   "outputs": [
    {
     "data": {
      "text/plain": [
       "4"
      ]
     },
     "execution_count": 196,
     "metadata": {},
     "output_type": "execute_result"
    }
   ],
   "source": [
    "as[end]"
   ]
  },
  {
   "cell_type": "markdown",
   "metadata": {},
   "source": [
    "Necesitamos renombrar cada arreglo del arreglo y para ese nuevo vector encontrar su end."
   ]
  },
  {
   "cell_type": "code",
   "execution_count": null,
   "metadata": {},
   "outputs": [],
   "source": [
    "for t = 1:length(path2)\n",
    "    kk = path2[t[]]"
   ]
  },
  {
   "cell_type": "code",
   "execution_count": null,
   "metadata": {},
   "outputs": [],
   "source": []
  },
  {
   "cell_type": "code",
   "execution_count": null,
   "metadata": {},
   "outputs": [],
   "source": []
  },
  {
   "cell_type": "code",
   "execution_count": null,
   "metadata": {},
   "outputs": [],
   "source": []
  },
  {
   "cell_type": "code",
   "execution_count": 148,
   "metadata": {},
   "outputs": [
    {
     "name": "stdout",
     "output_type": "stream",
     "text": [
      "k = 1\n",
      "path2 = [1, 3]\n",
      "k = 2\n",
      "path2 = [3]\n"
     ]
    },
    {
     "ename": "BoundsError",
     "evalue": "BoundsError: attempt to access 1-element Array{Int64,1} at index [3]",
     "output_type": "error",
     "traceback": [
      "BoundsError: attempt to access 1-element Array{Int64,1} at index [3]",
      "",
      "Stacktrace:",
      " [1] getindex(::Array{Int64,1}, ::Int64) at ./array.jl:731",
      " [2] top-level scope at ./In[148]:3"
     ]
    }
   ],
   "source": [
    "# Intento quitar los elementos repetidos\n",
    "for k in 1:length(path2)\n",
    "    path2=unique(path2[k])\n",
    "    @show k\n",
    "    @show path2\n",
    "end\n",
    "print(path2)"
   ]
  },
  {
   "cell_type": "code",
   "execution_count": null,
   "metadata": {},
   "outputs": [],
   "source": [
    "function prueba_arbol2(i) #Parámetro: matriz, nodo inicial: i\n",
    "    \n",
    "    path2 = [[i,j] for i=1:length(B[i, :]) for j=1:length(B[i, :]) if B[i, :][j] != 0]\n",
    "                    #unique()\n",
    "                    \n",
    "                \n",
    "    push!(path_, [i])\n",
    "        \n",
    "        if B[i, :][k] != 0\n",
    "            #path_i = Array{Int64, 1}(nodo_inicial)\n",
    "            push!(path_[1], k)\n",
    "            @show path_\n",
    "            \n",
    "        end\n",
    "        #print(path_)\n",
    "    end\n",
    "    \n",
    "end     "
   ]
  },
  {
   "cell_type": "code",
   "execution_count": null,
   "metadata": {},
   "outputs": [],
   "source": []
  },
  {
   "cell_type": "code",
   "execution_count": null,
   "metadata": {},
   "outputs": [],
   "source": []
  },
  {
   "cell_type": "code",
   "execution_count": null,
   "metadata": {},
   "outputs": [],
   "source": []
  },
  {
   "cell_type": "code",
   "execution_count": 12,
   "metadata": {},
   "outputs": [
    {
     "data": {
      "text/plain": [
       "prueba_arbol (generic function with 1 method)"
      ]
     },
     "execution_count": 12,
     "metadata": {},
     "output_type": "execute_result"
    }
   ],
   "source": [
    "#Prueba función árbol para un sólo nodo\n",
    "function prueba_arbol(i) #Parámetro: matriz, nodo inicial: i\n",
    "    \n",
    "    #nodo_inicial = i\n",
    "    path_ = [[]]\n",
    "    push!(path_, [i])\n",
    "    \n",
    "    for k in 1:length(B[i, :])\n",
    "        @show k\n",
    "        \n",
    "        if B[i, :][k] != 0\n",
    "            #path_i = Array{Int64, 1}(nodo_inicial)\n",
    "            push!(path_[1], k)\n",
    "            @show path_\n",
    "            \n",
    "        end\n",
    "        #print(path_)\n",
    "    end\n",
    "    \n",
    "end     "
   ]
  },
  {
   "cell_type": "code",
   "execution_count": 13,
   "metadata": {},
   "outputs": [
    {
     "name": "stdout",
     "output_type": "stream",
     "text": [
      "k = 1\n",
      "k = 2\n",
      "k = 3\n",
      "path_ = [1, 3]\n",
      "k = 4\n"
     ]
    }
   ],
   "source": [
    "#Prueba de la función prueba_arbol para el nodo 1 \n",
    "prueba_arbol(1)"
   ]
  },
  {
   "cell_type": "code",
   "execution_count": 14,
   "metadata": {},
   "outputs": [
    {
     "name": "stdout",
     "output_type": "stream",
     "text": [
      "k = 1\n",
      "k = 2\n",
      "k = 3\n",
      "path_ = [2, 3]\n",
      "k = 4\n",
      "path_ = [2, 3, 4]\n"
     ]
    }
   ],
   "source": [
    "#Prueba de la función prueba_arbol para el nodo 2\n",
    "prueba_arbol(2)"
   ]
  },
  {
   "cell_type": "code",
   "execution_count": 15,
   "metadata": {},
   "outputs": [
    {
     "name": "stdout",
     "output_type": "stream",
     "text": [
      "k = 1\n",
      "path_ = [3, 1]\n",
      "k = 2\n",
      "path_ = [3, 1, 2]\n",
      "k = 3\n",
      "k = 4\n",
      "path_ = [3, 1, 2, 4]\n"
     ]
    }
   ],
   "source": [
    "#Prueba de la función prueba_arbol para el nodo 3\n",
    "prueba_arbol(3)"
   ]
  },
  {
   "cell_type": "markdown",
   "metadata": {},
   "source": [
    "El problema es que no está creando nuevos arreglos, los está metiendo en el mismo arreglo path_."
   ]
  },
  {
   "cell_type": "code",
   "execution_count": null,
   "metadata": {},
   "outputs": [],
   "source": [
    "#Prueba función árbol para un sólo nodo\n",
    "function prueba_arbol(B, i) #Parámetro: matriz, nodo inicial: i\n",
    "    \n",
    "    #for c in 1:length(B[:, i]) #Para que corra sobre la columna y encuentre caminos iniciando desde todos los nodos.\n",
    "    \n",
    "    nodo_inicial = i\n",
    "    \n",
    "    for k in 1:length(B[i, :])\n",
    "        \n",
    "        if B[i, :][k] != 0 #anteriores\n",
    "            #k += 1\n",
    "        \n",
    "            #else #En cambio, si es == 1, entonces,\n",
    "            path_ = [[nodo_inicial]]\n",
    "            push!(path_, B[i, :][k])\n",
    "            \n",
    "        end\n",
    "        \n",
    "    end\n",
    "    \n",
    "    #end\n",
    "    \n",
    "end     "
   ]
  },
  {
   "cell_type": "code",
   "execution_count": null,
   "metadata": {},
   "outputs": [],
   "source": []
  },
  {
   "cell_type": "code",
   "execution_count": null,
   "metadata": {},
   "outputs": [],
   "source": [
    "#Nueva función \n",
    "function camino_arbol(M, i)\n",
    "    global c\n",
    "\n",
    "    c = 1 #contador\n",
    "    \n",
    "    for k in 1:length(M[i,:])\n",
    "        path_i = Array{Int64,1}() #Camino de nodos\n",
    "        push!(path, k)\n",
    "    if path[end] == path[]\n",
    "        break\n",
    "    end\n",
    "\n",
    "#end"
   ]
  },
  {
   "cell_type": "code",
   "execution_count": null,
   "metadata": {},
   "outputs": [],
   "source": []
  },
  {
   "cell_type": "code",
   "execution_count": null,
   "metadata": {},
   "outputs": [],
   "source": [
    "B"
   ]
  },
  {
   "cell_type": "code",
   "execution_count": null,
   "metadata": {},
   "outputs": [],
   "source": [
    "B[1,:] #Primer renglón de la matriz"
   ]
  },
  {
   "cell_type": "code",
   "execution_count": null,
   "metadata": {},
   "outputs": [],
   "source": [
    "length(B[1,:])"
   ]
  },
  {
   "cell_type": "code",
   "execution_count": null,
   "metadata": {},
   "outputs": [],
   "source": []
  },
  {
   "cell_type": "code",
   "execution_count": null,
   "metadata": {},
   "outputs": [],
   "source": []
  },
  {
   "cell_type": "code",
   "execution_count": null,
   "metadata": {},
   "outputs": [],
   "source": []
  },
  {
   "cell_type": "code",
   "execution_count": null,
   "metadata": {},
   "outputs": [],
   "source": []
  },
  {
   "cell_type": "code",
   "execution_count": null,
   "metadata": {},
   "outputs": [],
   "source": []
  },
  {
   "cell_type": "code",
   "execution_count": null,
   "metadata": {},
   "outputs": [],
   "source": []
  },
  {
   "cell_type": "code",
   "execution_count": null,
   "metadata": {},
   "outputs": [],
   "source": []
  },
  {
   "cell_type": "code",
   "execution_count": null,
   "metadata": {},
   "outputs": [],
   "source": []
  },
  {
   "cell_type": "code",
   "execution_count": null,
   "metadata": {},
   "outputs": [],
   "source": []
  },
  {
   "cell_type": "code",
   "execution_count": null,
   "metadata": {},
   "outputs": [],
   "source": [
    "caminos(3, 4)"
   ]
  },
  {
   "cell_type": "code",
   "execution_count": null,
   "metadata": {},
   "outputs": [],
   "source": [
    "caminos(2,4)"
   ]
  },
  {
   "cell_type": "code",
   "execution_count": null,
   "metadata": {},
   "outputs": [],
   "source": [
    "caminos(1,4)"
   ]
  },
  {
   "cell_type": "code",
   "execution_count": null,
   "metadata": {},
   "outputs": [],
   "source": [
    "ant=(1,3)"
   ]
  },
  {
   "cell_type": "code",
   "execution_count": null,
   "metadata": {},
   "outputs": [],
   "source": [
    "ant[2]"
   ]
  },
  {
   "cell_type": "code",
   "execution_count": null,
   "metadata": {},
   "outputs": [],
   "source": [
    "?symmetric"
   ]
  },
  {
   "cell_type": "code",
   "execution_count": null,
   "metadata": {},
   "outputs": [],
   "source": [
    "#1con2\n",
    "i=1 #renglón, nodo inicial\n",
    "j=2 #columna, nodo final\n",
    "c=1 #contador\n",
    "camino=0\n",
    "Array{Float64,2}\n",
    "print(i,i)\n",
    "if B[i,j]==1\n",
    "    print(i,j)\n",
    "    camino+=1\n",
    "    print(\"camino:\")\n",
    "    print(camino)\n",
    "end\n",
    "#while B[i,c]==0\n",
    " #   global c+=1\n",
    "#end\n",
    "#print(c, B[c,i])\n",
    "#s=B[c,i]"
   ]
  },
  {
   "cell_type": "code",
   "execution_count": null,
   "metadata": {},
   "outputs": [],
   "source": [
    "#2con3\n",
    "i=2 #renglón, nodo inicial\n",
    "j=3 #columna, nodo final\n",
    "c=1 #contador\n",
    "n=1\n",
    "camino=0\n",
    "print(i,i)\n",
    "while B[2,3]==0\n",
    "    if B[i,j]==1\n",
    "        print(i,j)\n",
    "        camino+=1\n",
    "        print(\"camino:\")\n",
    "        print(camino)\n",
    "    end\n",
    "    while B[i,c]==0\n",
    "        global c+=1\n",
    "    end\n",
    "    n=c\n",
    "    c=1\n",
    "#ahora hay que checar la fila c\n",
    "    while B[n,c]==0\n",
    "        global c+=1\n",
    "    end\n",
    "end"
   ]
  },
  {
   "cell_type": "markdown",
   "metadata": {},
   "source": [
    "#### Average Path Legth"
   ]
  },
  {
   "cell_type": "code",
   "execution_count": null,
   "metadata": {},
   "outputs": [],
   "source": [
    "APT=path/length(path)"
   ]
  },
  {
   "cell_type": "markdown",
   "metadata": {},
   "source": [
    "#### Excentricidad\n",
    "La excentricidad de un nodo es la longitud mayor entre los caminos más cortos que existen entre dos nodos de la red.\n",
    "La excentricidad de la red es el vector de tamaño \"n\" que contiene a las excentricidades de cada nodo."
   ]
  },
  {
   "cell_type": "code",
   "execution_count": null,
   "metadata": {},
   "outputs": [],
   "source": [
    "#M = [0 1 0 0 1 0\n",
    "     1 0 0 1 0 0\n",
    "     0 0 0 1 1 1\n",
    "     0 1 1 0 0 0\n",
    "     1 0 1 0 0 0\n",
    "     0 0 1 0 0 0]"
   ]
  },
  {
   "cell_type": "code",
   "execution_count": null,
   "metadata": {},
   "outputs": [],
   "source": [
    "j = 1\n",
    "    M[1,j]\n"
   ]
  },
  {
   "cell_type": "code",
   "execution_count": null,
   "metadata": {},
   "outputs": [],
   "source": [
    "#caminos más cortos\n",
    "#function prexc_nodo(1,3) #función con parámetro i, j. De qué nodo(i) a qué nodo(j) queremos la exc o dist más corta\n",
    "    #contador = 0 \n",
    "    j = 1\n",
    "    if M[1,j] == 0\n",
    "        j+= 1\n",
    "        else \n",
    "            M[j,1]\n",
    "    print(M[j,1])\n",
    "    end"
   ]
  },
  {
   "cell_type": "code",
   "execution_count": null,
   "metadata": {},
   "outputs": [],
   "source": [
    "j = 1\n",
    "for M[1,j] == 0\n",
    "    j+= 1\n",
    "    else \n",
    "    M[j,1]\n",
    "    print(M[j,1])\n",
    "end"
   ]
  },
  {
   "cell_type": "code",
   "execution_count": null,
   "metadata": {},
   "outputs": [],
   "source": [
    "?print"
   ]
  },
  {
   "cell_type": "markdown",
   "metadata": {},
   "source": [
    "#### Diámetro\n",
    "Se define como el máximo de las excentricidades que componen al vector excentricidad de la red."
   ]
  },
  {
   "cell_type": "code",
   "execution_count": null,
   "metadata": {},
   "outputs": [],
   "source": [
    "?maximum"
   ]
  },
  {
   "cell_type": "code",
   "execution_count": null,
   "metadata": {},
   "outputs": [],
   "source": [
    "maximum(exc_red)"
   ]
  }
 ],
 "metadata": {
  "kernelspec": {
   "display_name": "Julia 1.0.1",
   "language": "julia",
   "name": "julia-1.0"
  },
  "language_info": {
   "file_extension": ".jl",
   "mimetype": "application/julia",
   "name": "julia",
   "version": "1.0.1"
  }
 },
 "nbformat": 4,
 "nbformat_minor": 2
}
