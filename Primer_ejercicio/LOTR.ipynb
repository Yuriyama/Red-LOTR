{
 "cells": [
  {
   "cell_type": "markdown",
   "metadata": {},
   "source": [
    "# Red LOTR"
   ]
  },
  {
   "cell_type": "markdown",
   "metadata": {},
   "source": [
    "#### Matriz de adyacencia\n",
    "\n",
    "La siguiente es la matriz de adyacencia A para una red del Señor de los Anillos:"
   ]
  },
  {
   "cell_type": "code",
   "execution_count": 1,
   "metadata": {},
   "outputs": [
    {
     "data": {
      "text/plain": [
       "43×43 Array{Int64,2}:\n",
       " 0  1  1  1  1  1  1  1  1  1  1  1  1  …  1  1  1  1  0  1  1  0  1  1  1  0\n",
       " 1  0  1  1  1  1  1  1  1  1  1  1  1     1  1  1  1  1  1  1  1  1  1  1  1\n",
       " 1  1  0  1  1  0  1  1  0  0  1  0  0     0  0  1  1  0  1  0  0  0  0  0  0\n",
       " 1  1  1  0  1  1  1  1  1  1  1  1  1     0  1  0  1  0  1  1  0  1  1  1  1\n",
       " 1  1  1  1  0  1  1  1  1  1  1  1  1     0  1  0  1  1  1  1  0  0  1  1  1\n",
       " 1  1  0  1  1  0  1  1  0  1  1  0  1  …  1  1  0  1  1  0  1  1  0  1  1  1\n",
       " 1  1  1  1  1  1  0  1  0  1  1  0  1     1  1  0  1  1  0  1  1  0  0  1  1\n",
       " 1  1  1  1  1  1  1  0  1  1  1  0  1     0  1  1  1  1  1  1  1  1  0  0  1\n",
       " 1  1  0  1  1  0  0  1  0  1  0  1  1     0  0  0  1  0  0  0  0  0  1  0  0\n",
       " 1  1  0  1  1  1  1  1  1  0  1  1  1     0  1  1  1  0  0  1  0  0  0  0  1\n",
       " 1  1  1  1  1  1  1  1  0  1  0  0  1  …  0  1  0  1  1  1  0  1  1  0  0  0\n",
       " 1  1  0  1  1  0  0  0  1  1  0  0  0     0  0  0  1  0  0  0  0  0  0  0  0\n",
       " 1  1  0  1  1  1  1  1  1  1  1  0  0     0  0  1  0  0  0  1  0  0  0  0  0\n",
       " ⋮              ⋮              ⋮        ⋱              ⋮              ⋮      \n",
       " 1  1  0  0  0  1  1  0  0  0  0  0  0     0  1  1  0  0  0  0  0  0  0  0  0\n",
       " 1  1  0  1  1  1  1  1  0  1  1  0  0     1  0  1  1  1  1  1  1  0  0  0  0\n",
       " 1  1  1  0  0  0  0  1  0  1  0  0  1     1  1  0  1  0  1  1  0  0  0  0  0\n",
       " 1  1  1  1  1  1  1  1  1  1  1  1  0     0  1  1  0  0  0  0  0  0  0  1  0\n",
       " 0  1  0  0  1  1  1  1  0  0  1  0  0  …  0  1  0  0  0  0  0  1  0  0  0  0\n",
       " 1  1  1  1  1  0  0  1  0  0  1  0  0     0  1  1  0  0  0  0  1  1  0  0  0\n",
       " 1  1  0  1  1  1  1  1  0  1  0  0  1     0  1  1  0  0  0  0  0  0  0  0  0\n",
       " 0  1  0  0  0  1  1  1  0  0  1  0  0     0  1  0  0  1  1  0  0  1  0  0  0\n",
       " 1  1  0  1  0  0  0  1  0  0  1  0  0     0  0  0  0  0  1  0  1  0  0  0  0\n",
       " 1  1  0  1  1  1  0  0  1  0  0  0  0  …  0  0  0  0  0  0  0  0  0  0  0  0\n",
       " 1  1  0  1  1  1  1  0  0  0  0  0  0     0  0  0  1  0  0  0  0  0  0  0  1\n",
       " 0  1  0  1  1  1  1  1  0  1  0  0  0     0  0  0  0  0  0  0  0  0  0  1  0"
      ]
     },
     "execution_count": 1,
     "metadata": {},
     "output_type": "execute_result"
    }
   ],
   "source": [
    "A = [0 1 1 1 1 1 1 1 1 1 1 1 1 1 1 1 1 1 1 1 1 1 1 1 0 0 1 1 1 1 1 1 1 1 1 0 1 1 0 1 1 1 0\n",
    "     1 0 1 1 1 1 1 1 1 1 1 1 1 1 0 0 1 1 0 1 0 1 1 1 1 1 1 1 1 1 1 1 1 1 1 1 1 1 1 1 1 1 1\n",
    "     1 1 0 1 1 0 1 1 0 0 1 0 0 1 0 1 1 1 0 0 0 0 1 1 1 0 1 1 1 0 1 0 0 1 1 0 1 0 0 0 0 0 0\n",
    "     1 1 1 0 1 1 1 1 1 1 1 1 1 0 1 1 1 1 0 1 0 1 0 1 1 0 1 1 1 1 1 0 1 0 1 0 1 1 0 1 1 1 1\n",
    "     1 1 1 1 0 1 1 1 1 1 1 1 1 0 1 1 1 0 0 1 0 1 0 1 1 0 1 1 1 1 1 0 1 0 1 1 1 1 0 0 1 1 1\n",
    "     1 1 0 1 1 0 1 1 0 1 1 0 1 1 1 0 1 1 0 1 0 1 1 1 1 1 1 1 1 1 0 1 1 0 1 1 0 1 1 0 1 1 1\n",
    "     1 1 1 1 1 1 0 1 0 1 1 0 1 1 1 0 1 1 0 1 0 0 1 1 1 0 1 1 1 1 0 1 1 0 1 1 0 1 1 0 0 1 1\n",
    "     1 1 1 1 1 1 1 0 1 1 1 0 1 1 1 1 1 1 0 0 0 0 1 1 1 1 1 1 1 1 1 0 1 1 1 1 1 1 1 1 0 0 1\n",
    "     1 1 0 1 1 0 0 1 0 1 0 1 1 0 0 0 0 0 1 0 0 0 0 0 1 0 1 0 1 0 0 0 0 0 1 0 0 0 0 0 1 0 0\n",
    "     1 1 0 1 1 1 1 1 1 0 1 1 1 1 1 0 1 0 0 0 0 0 0 1 1 0 1 1 1 0 1 0 1 1 1 0 0 1 0 0 0 0 1\n",
    "     1 1 1 1 1 1 1 1 0 1 0 0 1 1 0 0 1 1 0 1 0 1 1 1 1 0 1 1 1 1 0 0 1 0 1 1 1 0 1 1 0 0 0\n",
    "     1 1 0 1 1 0 0 0 1 1 0 0 0 0 0 0 0 0 0 0 0 0 0 0 1 0 0 0 1 0 0 0 0 0 1 0 0 0 0 0 0 0 0\n",
    "     1 1 0 1 1 1 1 1 1 1 1 0 0 1 0 0 1 0 0 0 0 0 0 0 1 0 1 0 1 0 0 0 0 1 0 0 0 1 0 0 0 0 0\n",
    "     1 1 1 0 0 1 1 1 0 1 1 0 1 0 0 0 0 1 0 0 0 0 1 1 0 1 1 1 1 1 0 1 0 0 1 0 0 0 0 0 0 1 1\n",
    "     1 0 0 1 1 1 1 1 0 1 0 0 0 0 0 0 0 0 0 0 0 0 0 0 1 0 1 0 0 0 0 1 0 0 0 0 0 1 0 0 0 0 0\n",
    "     1 0 1 1 1 0 0 1 0 0 0 0 0 0 0 0 1 0 0 0 1 0 0 0 1 0 1 0 0 0 1 0 0 1 0 0 1 0 0 0 0 0 0\n",
    "     1 1 1 1 1 1 1 1 0 1 1 0 1 0 0 1 0 1 0 1 0 1 0 1 1 0 1 1 1 1 1 1 1 1 0 1 1 1 1 0 0 0 0\n",
    "     1 1 1 1 0 1 1 1 0 0 1 0 0 1 0 0 1 0 0 0 0 0 0 0 1 1 1 1 1 0 1 1 1 0 1 0 1 0 0 0 0 0 0\n",
    "     1 0 0 0 0 0 0 0 1 0 0 0 0 0 0 0 0 0 0 0 0 0 0 0 0 0 0 0 0 0 0 0 0 0 0 0 0 0 0 0 0 0 0\n",
    "     1 1 0 1 1 1 1 0 0 0 1 0 0 0 0 0 1 0 0 0 0 1 0 0 1 0 1 0 0 1 1 1 1 0 0 0 1 0 1 1 0 0 0\n",
    "     1 0 0 0 0 0 0 0 0 0 0 0 0 0 0 1 0 0 0 0 0 0 0 0 1 0 0 0 0 0 0 0 0 0 0 0 0 0 0 0 0 0 0\n",
    "     1 1 0 1 1 1 0 0 0 0 1 0 0 0 0 0 1 0 0 1 0 0 0 1 1 0 1 0 0 1 0 0 1 0 0 1 0 0 1 0 0 0 0\n",
    "     1 1 1 0 0 1 1 1 0 0 1 0 0 1 0 0 0 0 0 0 0 0 0 0 0 1 1 0 0 0 0 0 0 0 1 0 0 0 0 0 0 1 1\n",
    "     1 1 1 1 1 1 1 1 0 1 1 0 0 1 0 0 1 0 0 0 0 1 0 0 1 0 1 1 1 1 1 0 0 0 0 0 1 1 1 0 0 0 0\n",
    "     0 1 1 1 1 1 1 1 1 1 1 1 1 0 1 1 1 1 0 1 1 1 0 1 0 0 1 1 1 1 1 0 0 1 1 0 1 1 0 0 1 1 0\n",
    "     0 1 0 0 0 1 0 1 0 0 0 0 0 1 0 0 0 1 0 0 0 0 1 0 0 0 0 0 0 0 0 0 0 0 0 0 0 0 0 0 0 1 1\n",
    "     1 1 1 1 1 1 1 1 1 1 1 0 1 1 1 1 1 1 0 1 0 1 1 1 1 0 0 1 1 1 1 1 1 1 1 1 1 1 1 1 1 1 1\n",
    "     1 1 1 1 1 1 1 1 0 1 1 0 0 1 0 0 1 1 0 0 0 0 0 1 1 0 1 0 1 1 1 0 1 0 1 0 1 1 1 1 1 1 0\n",
    "     1 1 1 1 1 1 1 1 1 1 1 1 1 1 0 0 1 1 0 0 0 0 0 1 1 0 1 1 0 1 1 1 1 1 1 1 1 1 0 0 0 0 1\n",
    "     1 1 0 1 1 1 1 1 0 0 1 0 0 1 0 0 1 0 0 1 0 1 0 1 1 0 1 1 1 0 1 1 1 1 0 1 1 0 1 1 0 0 0\n",
    "     1 1 1 1 1 0 0 1 0 1 0 0 0 0 0 1 1 1 0 1 0 0 0 1 1 0 1 1 1 1 0 1 1 1 1 1 1 0 0 1 0 0 0\n",
    "     1 1 0 0 0 1 1 0 0 0 0 0 0 1 1 0 1 1 0 1 0 0 0 0 0 0 1 0 1 1 1 0 1 1 0 0 0 0 0 0 0 0 0\n",
    "     1 1 0 1 1 1 1 1 0 1 1 0 0 0 0 0 1 1 0 1 0 1 0 0 0 0 1 1 1 1 1 1 0 1 1 1 1 1 1 0 0 0 0\n",
    "     1 1 1 0 0 0 0 1 0 1 0 0 1 0 0 1 1 0 0 0 0 0 0 0 1 0 1 0 1 1 1 1 1 0 1 0 1 1 0 0 0 0 0\n",
    "     1 1 1 1 1 1 1 1 1 1 1 1 0 1 0 0 0 1 0 0 0 0 1 0 1 0 1 1 1 0 1 0 1 1 0 0 0 0 0 0 0 1 0\n",
    "     0 1 0 0 1 1 1 1 0 0 1 0 0 0 0 0 1 0 0 0 0 1 0 0 0 0 1 0 1 1 1 0 1 0 0 0 0 0 1 0 0 0 0\n",
    "     1 1 1 1 1 0 0 1 0 0 1 0 0 0 0 1 1 1 0 1 0 0 0 1 1 0 1 1 1 1 1 0 1 1 0 0 0 0 1 1 0 0 0\n",
    "     1 1 0 1 1 1 1 1 0 1 0 0 1 0 1 0 1 0 0 0 0 0 0 1 1 0 1 1 1 0 0 0 1 1 0 0 0 0 0 0 0 0 0\n",
    "     0 1 0 0 0 1 1 1 0 0 1 0 0 0 0 0 1 0 0 1 0 1 0 1 0 0 1 1 0 1 0 0 1 0 0 1 1 0 0 1 0 0 0\n",
    "     1 1 0 1 0 0 0 1 0 0 1 0 0 0 0 0 0 0 0 1 0 0 0 0 0 0 1 1 0 1 1 0 0 0 0 0 1 0 1 0 0 0 0\n",
    "     1 1 0 1 1 1 0 0 1 0 0 0 0 0 0 0 0 0 0 0 0 0 0 0 1 0 1 1 0 0 0 0 0 0 0 0 0 0 0 0 0 0 0\n",
    "     1 1 0 1 1 1 1 0 0 0 0 0 0 1 0 0 0 0 0 0 0 0 1 0 1 1 1 1 0 0 0 0 0 0 1 0 0 0 0 0 0 0 1\n",
    "     0 1 0 1 1 1 1 1 0 1 0 0 0 1 0 0 0 0 0 0 0 0 1 0 0 1 1 0 1 0 0 0 0 0 0 0 0 0 0 0 0 1 0]"
   ]
  },
  {
   "cell_type": "code",
   "execution_count": 2,
   "metadata": {},
   "outputs": [
    {
     "data": {
      "text/plain": [
       "0"
      ]
     },
     "execution_count": 2,
     "metadata": {},
     "output_type": "execute_result"
    }
   ],
   "source": [
    "A[2,2] # Regresa el valor a22 de la matriz A"
   ]
  },
  {
   "cell_type": "code",
   "execution_count": 3,
   "metadata": {},
   "outputs": [
    {
     "data": {
      "text/plain": [
       "0"
      ]
     },
     "execution_count": 3,
     "metadata": {},
     "output_type": "execute_result"
    }
   ],
   "source": [
    "A[45] # Corresponde a la misma entrada, a22, de la matriz A"
   ]
  },
  {
   "cell_type": "code",
   "execution_count": 4,
   "metadata": {},
   "outputs": [
    {
     "data": {
      "text/plain": [
       "4×4 Array{Int64,2}:\n",
       " 0  0  1  0\n",
       " 0  0  1  1\n",
       " 1  1  0  1\n",
       " 0  1  1  0"
      ]
     },
     "execution_count": 4,
     "metadata": {},
     "output_type": "execute_result"
    }
   ],
   "source": [
    "#Matriz ejemplo\n",
    "B = [0 0 1 0\n",
    "     0 0 1 1\n",
    "     1 1 0 1\n",
    "     0 1 1 0]"
   ]
  },
  {
   "cell_type": "markdown",
   "metadata": {},
   "source": [
    "#### Grado de entrada de un nodo\n",
    "Se refiere al número de enlaces que \"entra\" a un cierto nodo. Suma de renglones.  \n",
    "\n",
    "Matemáticamente:  \n",
    "\n",
    "$$k_i = \\sum A_{ij}$$ j"
   ]
  },
  {
   "cell_type": "code",
   "execution_count": 5,
   "metadata": {},
   "outputs": [
    {
     "data": {
      "text/plain": [
       "43×1 Array{Int64,2}:\n",
       " 37\n",
       " 38\n",
       " 21\n",
       " 33\n",
       " 32\n",
       " 32\n",
       " 30\n",
       " 34\n",
       " 14\n",
       " 25\n",
       " 28\n",
       "  9\n",
       " 17\n",
       "  ⋮\n",
       " 15\n",
       " 25\n",
       " 18\n",
       " 23\n",
       " 14\n",
       " 22\n",
       " 18\n",
       " 16\n",
       " 12\n",
       "  9\n",
       " 14\n",
       " 13"
      ]
     },
     "execution_count": 5,
     "metadata": {},
     "output_type": "execute_result"
    }
   ],
   "source": [
    "grados_entrada = sum(A, dims = 2)"
   ]
  },
  {
   "cell_type": "markdown",
   "metadata": {},
   "source": [
    "#### Grado de salida de un nodo\n",
    "Se refiere al número de enlaces que \"sale\" de un cierto nodo. Suma de columnas.   \n",
    "\n",
    "Matemáticamente:  \n",
    "\n",
    "$$k_i = \\sum A_{ij}$$ i"
   ]
  },
  {
   "cell_type": "code",
   "execution_count": 6,
   "metadata": {},
   "outputs": [
    {
     "data": {
      "text/plain": [
       "1×43 Array{Int64,2}:\n",
       " 37  38  21  33  32  32  30  34  14  25  …  23  14  22  18  16  12  9  14  13"
      ]
     },
     "execution_count": 6,
     "metadata": {},
     "output_type": "execute_result"
    }
   ],
   "source": [
    "grados_salida = sum(A, dims = 1)"
   ]
  },
  {
   "cell_type": "markdown",
   "metadata": {},
   "source": [
    "En este caso coinciden pues se trata de una matriz no dirigida ni pesada."
   ]
  },
  {
   "cell_type": "code",
   "execution_count": 7,
   "metadata": {},
   "outputs": [
    {
     "data": {
      "text/plain": [
       "37"
      ]
     },
     "execution_count": 7,
     "metadata": {},
     "output_type": "execute_result"
    }
   ],
   "source": [
    "grados_entrada[1]"
   ]
  },
  {
   "cell_type": "code",
   "execution_count": 8,
   "metadata": {},
   "outputs": [
    {
     "data": {
      "text/plain": [
       "37"
      ]
     },
     "execution_count": 8,
     "metadata": {},
     "output_type": "execute_result"
    }
   ],
   "source": [
    "grados_salida[1]"
   ]
  },
  {
   "cell_type": "code",
   "execution_count": 9,
   "metadata": {},
   "outputs": [
    {
     "data": {
      "text/plain": [
       "true"
      ]
     },
     "execution_count": 9,
     "metadata": {},
     "output_type": "execute_result"
    }
   ],
   "source": [
    "grados_entrada[4] == grados_salida[4]"
   ]
  },
  {
   "cell_type": "code",
   "execution_count": 10,
   "metadata": {},
   "outputs": [
    {
     "data": {
      "text/plain": [
       "true"
      ]
     },
     "execution_count": 10,
     "metadata": {},
     "output_type": "execute_result"
    }
   ],
   "source": [
    "grados_entrada[27] == grados_salida[27]"
   ]
  },
  {
   "cell_type": "markdown",
   "metadata": {},
   "source": [
    "#### Grado de la red\n",
    "Promedio de los grados de los nodos. También se puede calcular:   \n",
    "\n",
    "$$g = \\frac{2m}{N}$$\n",
    "\n",
    "con $m$ los enlaces   \n",
    "y $N$ el número de nodos"
   ]
  },
  {
   "cell_type": "code",
   "execution_count": 11,
   "metadata": {},
   "outputs": [
    {
     "data": {
      "text/plain": [
       "43"
      ]
     },
     "execution_count": 11,
     "metadata": {},
     "output_type": "execute_result"
    }
   ],
   "source": [
    "length(grados_entrada) #Longitud del arreglo grados_entrada"
   ]
  },
  {
   "cell_type": "code",
   "execution_count": 12,
   "metadata": {},
   "outputs": [
    {
     "data": {
      "text/plain": [
       "20.88372093023256"
      ]
     },
     "execution_count": 12,
     "metadata": {},
     "output_type": "execute_result"
    }
   ],
   "source": [
    "grado_red = sum(grados_entrada) / length(grados_entrada) #Grado de la red, promedio de los grados"
   ]
  },
  {
   "cell_type": "markdown",
   "metadata": {},
   "source": [
    "#### Camino (Path)\n",
    "Es una secuencia de nodos o aristas que están conectadas."
   ]
  },
  {
   "cell_type": "markdown",
   "metadata": {},
   "source": [
    "##### Prueba para calcular el inicio de camino de un sólo nodo"
   ]
  },
  {
   "cell_type": "code",
   "execution_count": 13,
   "metadata": {},
   "outputs": [
    {
     "data": {
      "text/plain": [
       "3-element Array{Array{Int64,1},1}:\n",
       " [3, 1]\n",
       " [3, 2]\n",
       " [3, 4]"
      ]
     },
     "execution_count": 13,
     "metadata": {},
     "output_type": "execute_result"
    }
   ],
   "source": [
    "# Regresa un arreglo que contiene arreglos con el nodo inicial (i) y aquellos nodos con los que está conectado. \n",
    "i = 3\n",
    "secuencia = [[i,k] for k = 1:length(B[i, :]) if B[i, :][k] != 0]"
   ]
  },
  {
   "cell_type": "code",
   "execution_count": 14,
   "metadata": {},
   "outputs": [
    {
     "data": {
      "text/plain": [
       "3-element Array{Int64,1}:\n",
       " 1\n",
       " 2\n",
       " 4"
      ]
     },
     "execution_count": 14,
     "metadata": {},
     "output_type": "execute_result"
    }
   ],
   "source": [
    "# Para encontrar los últimos elementos de los arreglos.\n",
    "map(x -> x[end], secuencia)"
   ]
  },
  {
   "cell_type": "code",
   "execution_count": 15,
   "metadata": {},
   "outputs": [
    {
     "name": "stdout",
     "output_type": "stream",
     "text": [
      "u = [1, 2, 4]\n"
     ]
    }
   ],
   "source": [
    "# Findall regresa los índices de todas las entradas no 0.\n",
    "for i = 3\n",
    "    u = findall(x -> x != 0, B[i,:])\n",
    "    @show u \n",
    "end"
   ]
  },
  {
   "cell_type": "code",
   "execution_count": 158,
   "metadata": {},
   "outputs": [
    {
     "data": {
      "text/plain": [
       "path_f (generic function with 1 method)"
      ]
     },
     "execution_count": 158,
     "metadata": {},
     "output_type": "execute_result"
    }
   ],
   "source": [
    "# Prueba uso de findall para un nodo\n",
    "\n",
    "function path_f(i)\n",
    "    \n",
    "    camino = [[i, k] for k = 1:length(B[i, :]) if B[i, :][k] != 0]\n",
    "                #@show camino\n",
    "                \n",
    "                c = findall(x -> x != 0, B[i, :]) #me da un arreglo con los índices diferentes de 0\n",
    "                @show c #la i debe cambiar\n",
    "                \n",
    "                for j = 1:length(c)\n",
    "                    #@show j\n",
    "                    \n",
    "                    for m = c[j] # para c índice distinto de 0\n",
    "                        @show m\n",
    "                    \n",
    "                        nuevo = findall(x -> x != 0, B[m, :]) #obtiene elementos distintos de cero del renglón m\n",
    "                        @show nuevo\n",
    "                        @show camino[j]\n",
    "                        \n",
    "                        for q = 1:length(nuevo)\n",
    "                            @show nuevo[q]\n",
    "                            \n",
    "                            path = push!(camino[j], nuevo[q]) #corregir porque todos los agrega al mismo arreglo path.\n",
    "                            \n",
    "                            \n",
    "                            if unique(path) != path \n",
    "                                pop!(path)\n",
    "                            end\n",
    "                            \n",
    "                            print(\"Path:\")\n",
    "                            print(path)\n",
    "                            \n",
    "                        end\n",
    "                                                    \n",
    "                    end\n",
    "                    \n",
    "                end\n",
    "                #print(\"Path:\")\n",
    "                #print(path)\n",
    "end"
   ]
  },
  {
   "cell_type": "code",
   "execution_count": 160,
   "metadata": {},
   "outputs": [
    {
     "name": "stdout",
     "output_type": "stream",
     "text": [
      "c = [1, 2, 4]\n",
      "m = 1\n",
      "nuevo = [3]\n",
      "camino[j] = [3, 1]\n",
      "nuevo[q] = 3\n",
      "Path:[3, 1]m = 2\n",
      "nuevo = [3, 4]\n",
      "camino[j] = [3, 2]\n",
      "nuevo[q] = 3\n",
      "Path:[3, 2]nuevo[q] = 4\n",
      "Path:[3, 2, 4]m = 4\n",
      "nuevo = [2, 3]\n",
      "camino[j] = [3, 4]\n",
      "nuevo[q] = 2\n",
      "Path:[3, 4, 2]nuevo[q] = 3\n",
      "Path:[3, 4, 2]"
     ]
    }
   ],
   "source": [
    "path_f(3)"
   ]
  },
  {
   "cell_type": "markdown",
   "metadata": {},
   "source": [
    "Necesitamos renombrar cada arreglo del arreglo y para ese nuevo vector encontrar su end."
   ]
  },
  {
   "cell_type": "markdown",
   "metadata": {},
   "source": [
    "#### Ahora queremos checar que no existen nodos repetidos dentro de los arreglos\n",
    "Para eso usamos la función unique"
   ]
  },
  {
   "cell_type": "code",
   "execution_count": 62,
   "metadata": {},
   "outputs": [
    {
     "data": {
      "text/plain": [
       "3-element Array{Int64,1}:\n",
       " 3\n",
       " 2\n",
       " 4"
      ]
     },
     "execution_count": 62,
     "metadata": {},
     "output_type": "execute_result"
    }
   ],
   "source": [
    "# Intento quitar los elementos repetidos\n",
    "\n",
    "path = [3, 2, 4, 2]\n",
    "\n",
    "unique_path = unique(path)"
   ]
  },
  {
   "cell_type": "code",
   "execution_count": 78,
   "metadata": {},
   "outputs": [
    {
     "name": "stdout",
     "output_type": "stream",
     "text": [
      "igual"
     ]
    }
   ],
   "source": [
    "path = [3, 2, 4]\n",
    "if unique(path) == path\n",
    "    print(\"igual\")\n",
    "    else print(\"no igual\")\n",
    "end"
   ]
  },
  {
   "cell_type": "markdown",
   "metadata": {},
   "source": [
    "#### Average Path Legth\n",
    "Promedio de las longitudes de camino entre dos nodos de la red."
   ]
  },
  {
   "cell_type": "code",
   "execution_count": 50,
   "metadata": {},
   "outputs": [
    {
     "data": {
      "text/plain": [
       "APT (generic function with 1 method)"
      ]
     },
     "execution_count": 50,
     "metadata": {},
     "output_type": "execute_result"
    }
   ],
   "source": [
    "# Promedio de las longitudes de caminos\n",
    "function APT(i, j)\n",
    "    \n",
    "    path_f(i) # llamo a la función path_i que me regresa vectores\n",
    "    \n",
    "    for k = 1:length(path_f) - 1\n",
    "        longitud = length(path_f[k]) - 1\n",
    "        APT = sum(longitud[k])/length(path_f)\n",
    "    end\n",
    "\n",
    "end"
   ]
  },
  {
   "cell_type": "code",
   "execution_count": 69,
   "metadata": {},
   "outputs": [],
   "source": [
    "path31 = [3, 4]\n",
    "path32 = [3, 2, 4];"
   ]
  },
  {
   "cell_type": "code",
   "execution_count": 76,
   "metadata": {},
   "outputs": [
    {
     "data": {
      "text/plain": [
       "1.5"
      ]
     },
     "execution_count": 76,
     "metadata": {},
     "output_type": "execute_result"
    }
   ],
   "source": [
    "l_p31 = length(path31) - 1\n",
    "l_p32 = length(path32) - 1\n",
    "\n",
    "(l_p31 + l_p32)/2.0 \n",
    "# Checamos la función APT"
   ]
  },
  {
   "cell_type": "markdown",
   "metadata": {},
   "source": [
    "### Shortest Path Length\n",
    "El camino más corto entre cualesquiera dos nodos de la red."
   ]
  },
  {
   "cell_type": "code",
   "execution_count": null,
   "metadata": {},
   "outputs": [],
   "source": [
    "function SPL(i, j)\n",
    "   # Debo llamar a la función path\n",
    "    \n",
    "    path_f(i) # llamo a la función path_i que me regresa vectores\n",
    "    \n",
    "    minimum(path_f) - 1\n",
    "    \n",
    "end"
   ]
  },
  {
   "cell_type": "markdown",
   "metadata": {},
   "source": [
    "### Excentricidad\n",
    "\n",
    "#### Excentricidad de un nodo\n",
    "La excentricidad de un nodo es la longitud mayor entre los caminos más cortos que existen entre dos nodos de la red."
   ]
  },
  {
   "cell_type": "code",
   "execution_count": null,
   "metadata": {},
   "outputs": [],
   "source": [
    "function exc_nodo(i)\n",
    "    #para todo nodo j\n",
    "   SPL(i) # llamo a la función path_i que me regresa vectores\n",
    "    \n",
    "    maximum(path_f) - 1\n",
    "end"
   ]
  },
  {
   "cell_type": "markdown",
   "metadata": {},
   "source": [
    "#### Excentricidad de la red\n",
    "La excentricidad de la red es el vector de tamaño \"n\" que contiene a las excentricidades de cada nodo."
   ]
  },
  {
   "cell_type": "code",
   "execution_count": null,
   "metadata": {},
   "outputs": [],
   "source": [
    "function exc_red\n",
    "    exc = Array{Int64}()\n",
    "    for k = 1:length(B[:, 1])\n",
    "        excentricidad = exc_nodo(k)\n",
    "        push!(exc, excentricidad)\n",
    "    end\n",
    "end"
   ]
  },
  {
   "cell_type": "markdown",
   "metadata": {},
   "source": [
    "#### Diámetro\n",
    "Se define como el máximo de las excentricidades que componen al vector excentricidad de la red."
   ]
  },
  {
   "cell_type": "code",
   "execution_count": null,
   "metadata": {},
   "outputs": [],
   "source": [
    "maximum(exc_red)"
   ]
  },
  {
   "cell_type": "markdown",
   "metadata": {},
   "source": [
    "#### Radio\n",
    "Se define como el mínimo de las excentricidades que componen al vector excentricidad de la red."
   ]
  },
  {
   "cell_type": "code",
   "execution_count": null,
   "metadata": {},
   "outputs": [],
   "source": [
    "minimum(exc_red)"
   ]
  },
  {
   "cell_type": "markdown",
   "metadata": {},
   "source": [
    "#### Clustering Coefficient"
   ]
  },
  {
   "cell_type": "markdown",
   "metadata": {},
   "source": [
    "##### Clustering coefficient local\n",
    "$$C_i = \\frac{número de nodos con quienes está conectado}{número de vecinos del nodo}$$"
   ]
  },
  {
   "cell_type": "code",
   "execution_count": null,
   "metadata": {},
   "outputs": [],
   "source": [
    "# Para el numerador\n",
    "mapreduce(x -> x[end], +, path)"
   ]
  },
  {
   "cell_type": "code",
   "execution_count": null,
   "metadata": {},
   "outputs": [],
   "source": [
    "# Para el denominador $$1/2 k_i(k_i-1)$$ con k_i el grado del nodo\n"
   ]
  },
  {
   "cell_type": "markdown",
   "metadata": {},
   "source": [
    "##### Clustering coefficient global\n",
    "$$C = \\frac{(número de triángulos)*3}{número de triadas conectadas}$$"
   ]
  },
  {
   "cell_type": "code",
   "execution_count": null,
   "metadata": {},
   "outputs": [],
   "source": [
    "# Para el numerador, sobre todos los nodos\n",
    "mapreduce(x -> x[end], +, path)"
   ]
  },
  {
   "cell_type": "code",
   "execution_count": null,
   "metadata": {},
   "outputs": [],
   "source": [
    "# Para el denominador $$sum 1/2 k_i(k_i-1)$$ con k_i el grado del nodo\n",
    "\n"
   ]
  }
 ],
 "metadata": {
  "kernelspec": {
   "display_name": "Julia 1.0.1",
   "language": "julia",
   "name": "julia-1.0"
  },
  "language_info": {
   "file_extension": ".jl",
   "mimetype": "application/julia",
   "name": "julia",
   "version": "1.0.1"
  }
 },
 "nbformat": 4,
 "nbformat_minor": 2
}
