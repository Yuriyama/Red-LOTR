{
 "cells": [
  {
   "cell_type": "markdown",
   "metadata": {},
   "source": [
    "# Red LOTR"
   ]
  },
  {
   "cell_type": "markdown",
   "metadata": {},
   "source": [
    "## Matriz de adyacencia\n",
    "\n",
    "La siguiente es la matriz de adyacencia A para una red del Señor de los Anillos:"
   ]
  },
  {
   "cell_type": "code",
   "execution_count": 1,
   "metadata": {},
   "outputs": [],
   "source": [
    "A = [0 1 1 1 1 1 1 1 1 1 1 1 1 1 1 1 1 1 1 1 1 1 1 1 0 0 1 1 1 1 1 1 1 1 1 0 1 1 0 1 1 1 0\n",
    "     1 0 1 1 1 1 1 1 1 1 1 1 1 1 0 0 1 1 0 1 0 1 1 1 1 1 1 1 1 1 1 1 1 1 1 1 1 1 1 1 1 1 1\n",
    "     1 1 0 1 1 0 1 1 0 0 1 0 0 1 0 1 1 1 0 0 0 0 1 1 1 0 1 1 1 0 1 0 0 1 1 0 1 0 0 0 0 0 0\n",
    "     1 1 1 0 1 1 1 1 1 1 1 1 1 0 1 1 1 1 0 1 0 1 0 1 1 0 1 1 1 1 1 0 1 0 1 0 1 1 0 1 1 1 1\n",
    "     1 1 1 1 0 1 1 1 1 1 1 1 1 0 1 1 1 0 0 1 0 1 0 1 1 0 1 1 1 1 1 0 1 0 1 1 1 1 0 0 1 1 1\n",
    "     1 1 0 1 1 0 1 1 0 1 1 0 1 1 1 0 1 1 0 1 0 1 1 1 1 1 1 1 1 1 0 1 1 0 1 1 0 1 1 0 1 1 1\n",
    "     1 1 1 1 1 1 0 1 0 1 1 0 1 1 1 0 1 1 0 1 0 0 1 1 1 0 1 1 1 1 0 1 1 0 1 1 0 1 1 0 0 1 1\n",
    "     1 1 1 1 1 1 1 0 1 1 1 0 1 1 1 1 1 1 0 0 0 0 1 1 1 1 1 1 1 1 1 0 1 1 1 1 1 1 1 1 0 0 1\n",
    "     1 1 0 1 1 0 0 1 0 1 0 1 1 0 0 0 0 0 1 0 0 0 0 0 1 0 1 0 1 0 0 0 0 0 1 0 0 0 0 0 1 0 0\n",
    "     1 1 0 1 1 1 1 1 1 0 1 1 1 1 1 0 1 0 0 0 0 0 0 1 1 0 1 1 1 0 1 0 1 1 1 0 0 1 0 0 0 0 1\n",
    "     1 1 1 1 1 1 1 1 0 1 0 0 1 1 0 0 1 1 0 1 0 1 1 1 1 0 1 1 1 1 0 0 1 0 1 1 1 0 1 1 0 0 0\n",
    "     1 1 0 1 1 0 0 0 1 1 0 0 0 0 0 0 0 0 0 0 0 0 0 0 1 0 0 0 1 0 0 0 0 0 1 0 0 0 0 0 0 0 0\n",
    "     1 1 0 1 1 1 1 1 1 1 1 0 0 1 0 0 1 0 0 0 0 0 0 0 1 0 1 0 1 0 0 0 0 1 0 0 0 1 0 0 0 0 0\n",
    "     1 1 1 0 0 1 1 1 0 1 1 0 1 0 0 0 0 1 0 0 0 0 1 1 0 1 1 1 1 1 0 1 0 0 1 0 0 0 0 0 0 1 1\n",
    "     1 0 0 1 1 1 1 1 0 1 0 0 0 0 0 0 0 0 0 0 0 0 0 0 1 0 1 0 0 0 0 1 0 0 0 0 0 1 0 0 0 0 0\n",
    "     1 0 1 1 1 0 0 1 0 0 0 0 0 0 0 0 1 0 0 0 1 0 0 0 1 0 1 0 0 0 1 0 0 1 0 0 1 0 0 0 0 0 0\n",
    "     1 1 1 1 1 1 1 1 0 1 1 0 1 0 0 1 0 1 0 1 0 1 0 1 1 0 1 1 1 1 1 1 1 1 0 1 1 1 1 0 0 0 0\n",
    "     1 1 1 1 0 1 1 1 0 0 1 0 0 1 0 0 1 0 0 0 0 0 0 0 1 1 1 1 1 0 1 1 1 0 1 0 1 0 0 0 0 0 0\n",
    "     1 0 0 0 0 0 0 0 1 0 0 0 0 0 0 0 0 0 0 0 0 0 0 0 0 0 0 0 0 0 0 0 0 0 0 0 0 0 0 0 0 0 0\n",
    "     1 1 0 1 1 1 1 0 0 0 1 0 0 0 0 0 1 0 0 0 0 1 0 0 1 0 1 0 0 1 1 1 1 0 0 0 1 0 1 1 0 0 0\n",
    "     1 0 0 0 0 0 0 0 0 0 0 0 0 0 0 1 0 0 0 0 0 0 0 0 1 0 0 0 0 0 0 0 0 0 0 0 0 0 0 0 0 0 0\n",
    "     1 1 0 1 1 1 0 0 0 0 1 0 0 0 0 0 1 0 0 1 0 0 0 1 1 0 1 0 0 1 0 0 1 0 0 1 0 0 1 0 0 0 0\n",
    "     1 1 1 0 0 1 1 1 0 0 1 0 0 1 0 0 0 0 0 0 0 0 0 0 0 1 1 0 0 0 0 0 0 0 1 0 0 0 0 0 0 1 1\n",
    "     1 1 1 1 1 1 1 1 0 1 1 0 0 1 0 0 1 0 0 0 0 1 0 0 1 0 1 1 1 1 1 0 0 0 0 0 1 1 1 0 0 0 0\n",
    "     0 1 1 1 1 1 1 1 1 1 1 1 1 0 1 1 1 1 0 1 1 1 0 1 0 0 1 1 1 1 1 0 0 1 1 0 1 1 0 0 1 1 0\n",
    "     0 1 0 0 0 1 0 1 0 0 0 0 0 1 0 0 0 1 0 0 0 0 1 0 0 0 0 0 0 0 0 0 0 0 0 0 0 0 0 0 0 1 1\n",
    "     1 1 1 1 1 1 1 1 1 1 1 0 1 1 1 1 1 1 0 1 0 1 1 1 1 0 0 1 1 1 1 1 1 1 1 1 1 1 1 1 1 1 1\n",
    "     1 1 1 1 1 1 1 1 0 1 1 0 0 1 0 0 1 1 0 0 0 0 0 1 1 0 1 0 1 1 1 0 1 0 1 0 1 1 1 1 1 1 0\n",
    "     1 1 1 1 1 1 1 1 1 1 1 1 1 1 0 0 1 1 0 0 0 0 0 1 1 0 1 1 0 1 1 1 1 1 1 1 1 1 0 0 0 0 1\n",
    "     1 1 0 1 1 1 1 1 0 0 1 0 0 1 0 0 1 0 0 1 0 1 0 1 1 0 1 1 1 0 1 1 1 1 0 1 1 0 1 1 0 0 0\n",
    "     1 1 1 1 1 0 0 1 0 1 0 0 0 0 0 1 1 1 0 1 0 0 0 1 1 0 1 1 1 1 0 1 1 1 1 1 1 0 0 1 0 0 0\n",
    "     1 1 0 0 0 1 1 0 0 0 0 0 0 1 1 0 1 1 0 1 0 0 0 0 0 0 1 0 1 1 1 0 1 1 0 0 0 0 0 0 0 0 0\n",
    "     1 1 0 1 1 1 1 1 0 1 1 0 0 0 0 0 1 1 0 1 0 1 0 0 0 0 1 1 1 1 1 1 0 1 1 1 1 1 1 0 0 0 0\n",
    "     1 1 1 0 0 0 0 1 0 1 0 0 1 0 0 1 1 0 0 0 0 0 0 0 1 0 1 0 1 1 1 1 1 0 1 0 1 1 0 0 0 0 0\n",
    "     1 1 1 1 1 1 1 1 1 1 1 1 0 1 0 0 0 1 0 0 0 0 1 0 1 0 1 1 1 0 1 0 1 1 0 0 0 0 0 0 0 1 0\n",
    "     0 1 0 0 1 1 1 1 0 0 1 0 0 0 0 0 1 0 0 0 0 1 0 0 0 0 1 0 1 1 1 0 1 0 0 0 0 0 1 0 0 0 0\n",
    "     1 1 1 1 1 0 0 1 0 0 1 0 0 0 0 1 1 1 0 1 0 0 0 1 1 0 1 1 1 1 1 0 1 1 0 0 0 0 1 1 0 0 0\n",
    "     1 1 0 1 1 1 1 1 0 1 0 0 1 0 1 0 1 0 0 0 0 0 0 1 1 0 1 1 1 0 0 0 1 1 0 0 0 0 0 0 0 0 0\n",
    "     0 1 0 0 0 1 1 1 0 0 1 0 0 0 0 0 1 0 0 1 0 1 0 1 0 0 1 1 0 1 0 0 1 0 0 1 1 0 0 1 0 0 0\n",
    "     1 1 0 1 0 0 0 1 0 0 1 0 0 0 0 0 0 0 0 1 0 0 0 0 0 0 1 1 0 1 1 0 0 0 0 0 1 0 1 0 0 0 0\n",
    "     1 1 0 1 1 1 0 0 1 0 0 0 0 0 0 0 0 0 0 0 0 0 0 0 1 0 1 1 0 0 0 0 0 0 0 0 0 0 0 0 0 0 0\n",
    "     1 1 0 1 1 1 1 0 0 0 0 0 0 1 0 0 0 0 0 0 0 0 1 0 1 1 1 1 0 0 0 0 0 0 1 0 0 0 0 0 0 0 1\n",
    "     0 1 0 1 1 1 1 1 0 1 0 0 0 1 0 0 0 0 0 0 0 0 1 0 0 1 1 0 1 0 0 0 0 0 0 0 0 0 0 0 0 1 0];"
   ]
  },
  {
   "cell_type": "code",
   "execution_count": 25,
   "metadata": {},
   "outputs": [],
   "source": [
    "#Matriz ejemplo\n",
    "B = [0 0 1 0\n",
    "     0 0 1 1\n",
    "     1 1 0 1\n",
    "     0 1 1 0];"
   ]
  },
  {
   "cell_type": "markdown",
   "metadata": {},
   "source": [
    "## Grado\n",
    "\n",
    "### 1. Nodo"
   ]
  },
  {
   "cell_type": "markdown",
   "metadata": {},
   "source": [
    "### Grado de entrada de un nodo\n",
    "Se refiere al número de enlaces que \"entra\" a un cierto nodo. Suma de renglones.  \n",
    "\n",
    "Matemáticamente:  \n",
    "\n",
    "$$k_i = \\sum_{j = 1}^n A_{ij}$$"
   ]
  },
  {
   "cell_type": "code",
   "execution_count": 30,
   "metadata": {},
   "outputs": [
    {
     "data": {
      "text/plain": [
       "degree_in (generic function with 1 method)"
      ]
     },
     "execution_count": 30,
     "metadata": {},
     "output_type": "execute_result"
    }
   ],
   "source": [
    "\"\"\"\n",
    "n_in_degree(M, n)\n",
    "\n",
    "Función que obtiene el grado de entrada de un cierto nodo $n$ de la red representada por la matriz de adyacencia $M$.\n",
    "\n",
    "Parámetros:\n",
    "* $M$ matriz de adyacencia que acepta un arreglo de tipo Array{Int64,2}\n",
    "* $n$ nodo a evaluar de tipo Int64\n",
    "\n",
    "Resultado:\n",
    "Grado de entrada del nodo $n$ representado por un valor numérico de tipo Int64\n",
    "\n",
    "## Implementación\n",
    "\n",
    "### Ejemplos\n",
    "\"\"\"\n",
    "\n",
    "function n_in_degree(M::Array{Int64,2}, n::Int64)\n",
    "    grado_entrada = sum(M[n, :])\n",
    "end"
   ]
  },
  {
   "cell_type": "markdown",
   "metadata": {},
   "source": [
    "### Grado de salida de un nodo\n",
    "Se refiere al número de enlaces que \"sale\" de un cierto nodo. Suma de columnas.   \n",
    "\n",
    "Matemáticamente:  \n",
    "\n",
    "$$k_i = \\sum_{i = 1}^n A_{ij}$$"
   ]
  },
  {
   "cell_type": "code",
   "execution_count": 7,
   "metadata": {},
   "outputs": [
    {
     "data": {
      "text/plain": [
       "degree_out (generic function with 1 method)"
      ]
     },
     "execution_count": 7,
     "metadata": {},
     "output_type": "execute_result"
    }
   ],
   "source": [
    "\"\"\"\n",
    "n_out_degree(M, n)\n",
    "\n",
    "Función que obtiene el grado de salida de un cierto nodo $n$ de la red representada por la matriz de adyacencia $M$.\n",
    "\n",
    "Parámetros:\n",
    "* $M$ matriz de adyacencia que acepta un arreglo de tipo Array{Int64,2}\n",
    "* $n$ nodo a evaluar de tipo Int64\n",
    "\n",
    "Resultado:\n",
    "Grado de salida del nodo $n$ representado por un valor numérico de tipo Int64\n",
    "\n",
    "## Implementación\n",
    "\n",
    "### Ejemplos\n",
    "\"\"\"\n",
    "\n",
    "function n_out_degree(M::Array{Int64,2}, n::Int64)\n",
    "    grado_salida = sum(M[:, n])\n",
    "end"
   ]
  },
  {
   "cell_type": "markdown",
   "metadata": {},
   "source": [
    "En el caso de tratarse de una matriz no dirigida y no pesada, los grados de entrada y salida coinciden."
   ]
  },
  {
   "cell_type": "markdown",
   "metadata": {},
   "source": [
    "### 2. Red"
   ]
  },
  {
   "cell_type": "markdown",
   "metadata": {},
   "source": [
    "### Grado de entrada de la red"
   ]
  },
  {
   "cell_type": "code",
   "execution_count": null,
   "metadata": {},
   "outputs": [],
   "source": [
    "\"\"\"\n",
    "in_degree(M)\n",
    "\n",
    "Función que obtiene el grado de entrada de una red representada por la matriz de adyacencia $M$.\n",
    "\n",
    "Parámetros:\n",
    "* $M$ matriz de adyacencia que acepta un arreglo de tipo Array{Int64,2}\n",
    "\n",
    "Resultado:\n",
    "Devuelve un arreglo de tipo Array{Int64,2} que contiene los grados de entrada de todos los nodos $n$ de la red.\n",
    "\n",
    "## Implementación\n",
    "\n",
    "### Ejemplos\n",
    "\"\"\"\n",
    "\n",
    "function in_degree(M::Array)\n",
    "    grados_entrada = sum(M, dims = 2)\n",
    "end"
   ]
  },
  {
   "cell_type": "code",
   "execution_count": null,
   "metadata": {},
   "outputs": [],
   "source": [
    "\"\"\"\n",
    "out_degree(M)\n",
    "\n",
    "Función que obtiene el grado de salida de una red representada por la matriz de adyacencia $M$.\n",
    "\n",
    "Parámetros:\n",
    "* $M$ matriz de adyacencia que acepta un arreglo de tipo Array{Int64,2}\n",
    "\n",
    "Resultado:\n",
    "Devuelve un arreglo de tipo Array{Int64,2} que contiene los grados de salida de todos los nodos $n$ de la red.\n",
    "\n",
    "## Implementación\n",
    "\n",
    "### Ejemplos\n",
    "\"\"\"\n",
    "\n",
    "function out_degree(M::Array)\n",
    "    grados_salida = sum(M, dims = 1)\n",
    "end"
   ]
  },
  {
   "cell_type": "markdown",
   "metadata": {},
   "source": [
    "Promedio de los grados de los nodos. También se puede calcular:   \n",
    "\n",
    "$$g = \\frac{2m}{N}$$\n",
    "\n",
    "donde: \n",
    "\n",
    "$m$ los enlaces   \n",
    "$N$ el número de nodos"
   ]
  },
  {
   "cell_type": "code",
   "execution_count": 8,
   "metadata": {},
   "outputs": [
    {
     "data": {
      "text/plain": [
       "degree (generic function with 1 method)"
      ]
     },
     "execution_count": 8,
     "metadata": {},
     "output_type": "execute_result"
    }
   ],
   "source": [
    "\"\"\"\n",
    "degree(M)\n",
    "\n",
    "Función que obtiene el grado de una red representada por la matriz de adyacencia $M$.\n",
    "\n",
    "Parámetros:\n",
    "* $M$ matriz de adyacencia que acepta un arreglo de tipo Array{Int64,2}\n",
    "\n",
    "Resultado:\n",
    "Devuelve el grado de la red, el cual es representado por un valor numérico de tipo Float64\n",
    "\n",
    "## Implementación\n",
    "\n",
    "### Ejemplos\n",
    "\"\"\"\n",
    "\n",
    "function degree(M::Array)\n",
    "    \n",
    "    grado_entrada = degree_in(M)\n",
    "    \n",
    "    grado_red = sum(grado_entrada) / length(grado_entrada) #Grado de la red, promedio de los grados\n",
    "end"
   ]
  },
  {
   "cell_type": "code",
   "execution_count": 9,
   "metadata": {},
   "outputs": [
    {
     "data": {
      "text/plain": [
       "2.0"
      ]
     },
     "execution_count": 9,
     "metadata": {},
     "output_type": "execute_result"
    }
   ],
   "source": [
    "degree(B)"
   ]
  },
  {
   "cell_type": "code",
   "execution_count": 10,
   "metadata": {},
   "outputs": [
    {
     "data": {
      "text/plain": [
       "20.88372093023256"
      ]
     },
     "execution_count": 10,
     "metadata": {},
     "output_type": "execute_result"
    }
   ],
   "source": [
    "degree(A)"
   ]
  },
  {
   "cell_type": "markdown",
   "metadata": {},
   "source": [
    "### Camino (Path)\n",
    "Es una secuencia de nodos o aristas que están conectadas."
   ]
  },
  {
   "cell_type": "markdown",
   "metadata": {},
   "source": [
    "##### Prueba para calcular el inicio de camino de un sólo nodo"
   ]
  },
  {
   "cell_type": "code",
   "execution_count": null,
   "metadata": {},
   "outputs": [],
   "source": [
    "# Regresa un arreglo que contiene arreglos con el nodo inicial (i) y aquellos nodos con los que está conectado. \n",
    "i = 3\n",
    "secuencia = [[i,k] for k = 1:length(B[i, :]) if B[i, :][k] != 0]"
   ]
  },
  {
   "cell_type": "code",
   "execution_count": null,
   "metadata": {},
   "outputs": [],
   "source": [
    "# Para encontrar los últimos elementos de los arreglos.\n",
    "map(x -> x[end], secuencia)"
   ]
  },
  {
   "cell_type": "code",
   "execution_count": null,
   "metadata": {},
   "outputs": [],
   "source": [
    "# Findall regresa los índices de todas las entradas no 0.\n",
    "for i = 3\n",
    "    u = findall(x -> x != 0, B[i,:])\n",
    "    @show u \n",
    "end"
   ]
  },
  {
   "cell_type": "code",
   "execution_count": 131,
   "metadata": {},
   "outputs": [
    {
     "data": {
      "text/plain": [
       "path_f (generic function with 1 method)"
      ]
     },
     "execution_count": 131,
     "metadata": {},
     "output_type": "execute_result"
    }
   ],
   "source": [
    "# Prueba uso de findall para un nodo\n",
    "\n",
    "function path_f(M, i) #M la matriz, i el nodo inicial\n",
    "    \n",
    "    caminos_posibles = []\n",
    "    \n",
    "    camino1 = [[i, k] for k = 1:length(M[i, :]) if M[i, :][k] != 0]\n",
    "                #@show camino1\n",
    "                \n",
    "                indices = findall(x -> x != 0, M[i, :]) #arreglo con los índices diferentes de 0 del renglón i\n",
    "                #@show indices #la i debe cambiar!!!!\n",
    "                \n",
    "                for j = 1:length(indices)\n",
    "                    #@show j\n",
    "                    \n",
    "                    for m = indices[j] # para c índice distinto de 0\n",
    "                        #@show m\n",
    "                    \n",
    "                        nuevo = findall(x -> x != 0, M[m, :]) #obtiene elementos distintos de cero del renglón m\n",
    "                        #@show nuevo\n",
    "                        #@show camino1[j]\n",
    "                        \n",
    "                        for q = 1:length(nuevo) #equivalente a j\n",
    "                            #@show nuevo[q]\n",
    "                            \n",
    "                            path = [camino1[j]; nuevo[q]]\n",
    "                            #@show path\n",
    "                            \n",
    "                            if unique(path) != path \n",
    "                                pop!(path)\n",
    "                            end\n",
    "                            \n",
    "                            push!(caminos_posibles, path)  \n",
    "                        \n",
    "                        end\n",
    "                                                    \n",
    "                    end\n",
    "                    \n",
    "                end\n",
    "                \n",
    "                \n",
    " \n",
    "                caminos_posibles\n",
    "end"
   ]
  },
  {
   "cell_type": "code",
   "execution_count": 133,
   "metadata": {},
   "outputs": [
    {
     "name": "stdout",
     "output_type": "stream",
     "text": [
      "Caminos posibles:"
     ]
    },
    {
     "data": {
      "text/plain": [
       "5-element Array{Any,1}:\n",
       " [3, 1]   \n",
       " [3, 2]   \n",
       " [3, 2, 4]\n",
       " [3, 4, 2]\n",
       " [3, 4]   "
      ]
     },
     "execution_count": 133,
     "metadata": {},
     "output_type": "execute_result"
    }
   ],
   "source": [
    "cam = path_f(B, 3)"
   ]
  },
  {
   "cell_type": "code",
   "execution_count": 136,
   "metadata": {},
   "outputs": [
    {
     "data": {
      "text/plain": [
       "4"
      ]
     },
     "execution_count": 136,
     "metadata": {},
     "output_type": "execute_result"
    }
   ],
   "source": [
    "c=cam[3][3]"
   ]
  },
  {
   "cell_type": "code",
   "execution_count": 130,
   "metadata": {},
   "outputs": [
    {
     "data": {
      "text/plain": [
       "2"
      ]
     },
     "execution_count": 130,
     "metadata": {},
     "output_type": "execute_result"
    }
   ],
   "source": [
    "c[2]"
   ]
  },
  {
   "cell_type": "code",
   "execution_count": 113,
   "metadata": {},
   "outputs": [
    {
     "name": "stdout",
     "output_type": "stream",
     "text": [
      "Caminos posibles:"
     ]
    },
    {
     "ename": "LoadError",
     "evalue": "syntax: unexpected \"end\"",
     "output_type": "error",
     "traceback": [
      "syntax: unexpected \"end\"",
      ""
     ]
    }
   ],
   "source": [
    "cam = path_f(B, 3)\n",
    "for k = 1:length(cam)\n",
    "camino1 = [[cam[k[end - 1]], cam[k[end]]]\n",
    "    #@show camino1\n"
   ]
  },
  {
   "cell_type": "code",
   "execution_count": 105,
   "metadata": {},
   "outputs": [
    {
     "ename": "LoadError",
     "evalue": "syntax: invalid comprehension syntax",
     "output_type": "error",
     "traceback": [
      "syntax: invalid comprehension syntax",
      ""
     ]
    }
   ],
   "source": [
    "function path_f2n(M, i) #M la matriz, i el nodo inicial\n",
    "    \n",
    "    caminos_posibles = path_f(M, i)\n",
    "    \n",
    "    camino1 = [[caminos_posibles[k[end - 1], caminos_posibles[end]] for k = 1:length(caminos_posibles)]\n",
    "    #@show camino1\n",
    "    \n",
    "        indices = findall(x -> x != 0, M[end, :]) #arreglo con los índices diferentes de 0 del renglón i\n",
    "        #@show indices \n",
    "        \n",
    "        for j = 1:length(indices)\n",
    "            #@show j\n",
    "            \n",
    "            for m = indices[j] # para c índice distinto de 0\n",
    "                #@show m\n",
    "                       \n",
    "                nuevo = findall(x -> x != 0, M[m, :]) #obtiene elementos distintos de cero del renglón m\n",
    "                #@show nuevo\n",
    "                #@show camino1[j]\n",
    "                \n",
    "                for q = 1:length(nuevo) #equivalente a j\n",
    "                    #@show nuevo[q]\n",
    "                    \n",
    "                    path = [camino1[j]; nuevo[q]]\n",
    "                    #@show path\n",
    "                               \n",
    "                    if unique(path) != path \n",
    "                        pop!(path)\n",
    "                    end\n",
    "                               \n",
    "                    push!(caminos_posibles, path)  \n",
    "                           \n",
    "                end\n",
    "                caminos_posibles\n",
    "                                                       \n",
    "            end\n",
    "            #print(\"Caminos posibles:\")\n",
    "            \n",
    "                   "
   ]
  },
  {
   "cell_type": "markdown",
   "metadata": {},
   "source": [
    "Necesitamos renombrar cada arreglo del arreglo y para ese nuevo vector encontrar su end."
   ]
  },
  {
   "cell_type": "code",
   "execution_count": 98,
   "metadata": {},
   "outputs": [
    {
     "data": {
      "text/plain": [
       "path_f2 (generic function with 1 method)"
      ]
     },
     "execution_count": 98,
     "metadata": {},
     "output_type": "execute_result"
    }
   ],
   "source": [
    "# Prueba 2 uso de findall para un nodo\n",
    "\n",
    "function path_f2(M, i) #M la matriz, i el nodo inicial\n",
    "    \n",
    "    caminos_posibles = Any[]\n",
    "    \n",
    "    camino1 = [[i, k] for k = 1:length(M[i, :]) if M[i, :][k] != 0]\n",
    "                @show camino1\n",
    "                \n",
    "                indices = findall(x -> x != 0, M[i, :]) #arreglo con los índices diferentes de 0 del renglón i\n",
    "                @show indices #la i debe cambiar!!!!\n",
    "                \n",
    "                for j = 1:length(indices)\n",
    "                    #@show j\n",
    "                    \n",
    "                    for m = indices[j] # para c índice distinto de 0\n",
    "                        @show m\n",
    "                    \n",
    "                        nuevo = findall(x -> x != 0, M[m, :]) #obtiene elementos distintos de cero del renglón m\n",
    "                        @show nuevo\n",
    "                        @show camino1[j]\n",
    "                        \n",
    "                        for q = 1:length(nuevo) #equivalente a j\n",
    "                            @show nuevo[q]\n",
    "                            \n",
    "                            path = [camino1[j]; nuevo[q]]\n",
    "                            @show path\n",
    "                            \n",
    "                            if unique(path) != path \n",
    "                                pop!(path)\n",
    "                            end\n",
    "                            \n",
    "                            push!(caminos_posibles, path) \n",
    "                            \n",
    "                           ###############################################\n",
    "                            \n",
    "                        end                             \n",
    "                    end\n",
    "                end\n",
    "                \n",
    "                for p = 1:length(caminos_posibles)\n",
    "                            \n",
    "                    nuevo = findall(x -> x != 0, B[caminos_posibles[p[end]], :])\n",
    "                    #@show nuevo\n",
    "    \n",
    "                    for q = 1:length(nuevo)\n",
    "                        path = [caminos_posibles[p]; nuevo[q]]\n",
    "        \n",
    "                        if unique(path) != path \n",
    "                            pop!(path)\n",
    "                        end\n",
    "                            \n",
    "                        push!(caminos_posibles, path)\n",
    "        \n",
    "                    end\n",
    "      \n",
    "                end\n",
    "caminos_posibles\n",
    "end"
   ]
  },
  {
   "cell_type": "markdown",
   "metadata": {},
   "source": [
    "#### Distancias"
   ]
  },
  {
   "cell_type": "code",
   "execution_count": null,
   "metadata": {},
   "outputs": [],
   "source": [
    "\"\"\"\n",
    "distance(M, s, t)\n",
    "\n",
    "Función que obtiene la distancia entre dos nodos de una red ($s$ y $t$).\n",
    "\n",
    "Parámetros:\n",
    "* $M$ matriz de adyacencia que acepta un arreglo de tipo Array{Int64,2}\n",
    "* $s$ nodo inicial (*source*) de tipo Int64\n",
    "* $t$ nodo final (*target*) de tipo Int64\n",
    "\n",
    "Resultado:\n",
    "Devuelve la distancia entre el nodo $s$ y $t$ representado por un valor numérico de tipo Int64\n",
    "\n",
    "## Implementación\n",
    "\n",
    "### Ejemplos\n",
    "\"\"\"\n",
    "\n",
    "function distance(M, s, t)\n",
    "    por_visitar = [s]\n",
    "    visitado = [s]\n",
    "    nivel = 0\n",
    "    \n",
    "    while t ∉ visitado == true\n",
    "        \n",
    "        actual = splice!(por_visitar, 1)\n",
    "        vecinos = findall(x -> x != 0, M[actual, :])\n",
    "        \n",
    "        for k = 1:length(vecinos)\n",
    "            \n",
    "            if vecinos[k] ∉ visitado == true\n",
    "                push!(por_visitar, vecinos[k])\n",
    "                push!(visitado, vecinos[k])\n",
    "            else\n",
    "                continue\n",
    "                \n",
    "            end\n",
    "        end\n",
    "        nivel += 1\n",
    "    end\n",
    "end"
   ]
  },
  {
   "cell_type": "code",
   "execution_count": 102,
   "metadata": {},
   "outputs": [
    {
     "data": {
      "text/plain": [
       "distancia (generic function with 1 method)"
      ]
     },
     "execution_count": 102,
     "metadata": {},
     "output_type": "execute_result"
    }
   ],
   "source": [
    "#Checar bien el nivel\n",
    "function distancia(M, s, t)\n",
    "    \n",
    "    por_visitar = [s]\n",
    "    visitado = [s]\n",
    "    nivel = 0\n",
    "    \n",
    "    while ∉(t, visitado) == true\n",
    "        \n",
    "        actual = splice!(por_visitar, 1)\n",
    "        \n",
    "        vecinos = findall(x -> x != 0, M[actual, :])\n",
    "        \n",
    "        for k = 1:length(vecinos)\n",
    "            \n",
    "            if ∉(vecinos[k], visitado) == true\n",
    "                \n",
    "                push!(por_visitar, vecinos[k])\n",
    "                \n",
    "                push!(visitado, vecinos[k])\n",
    "           \n",
    "            end\n",
    "        end\n",
    "        nivel += 1 \n",
    "    end\n",
    "   \n",
    "    nivel\n",
    "end"
   ]
  },
  {
   "cell_type": "code",
   "execution_count": 103,
   "metadata": {},
   "outputs": [
    {
     "data": {
      "text/plain": [
       "2"
      ]
     },
     "execution_count": 103,
     "metadata": {},
     "output_type": "execute_result"
    }
   ],
   "source": [
    "distancia(B, 1, 4)"
   ]
  },
  {
   "cell_type": "code",
   "execution_count": 95,
   "metadata": {},
   "outputs": [
    {
     "ename": "LoadError",
     "evalue": "syntax: unexpected \"end\"",
     "output_type": "error",
     "traceback": [
      "syntax: unexpected \"end\"",
      ""
     ]
    }
   ],
   "source": [
    "\"\"\"\n",
    "Función de la implementación Dijkstra, para encontrar el camino más corto. \n",
    "\"\"\"\n",
    "\n",
    "function dijkstra(M, s)\n",
    "   varr = []\n",
    "    dist = []\n",
    "    for \n",
    "end"
   ]
  },
  {
   "cell_type": "markdown",
   "metadata": {},
   "source": [
    "#### Average Path Length\n",
    "Promedio de las longitudes de camino entre dos nodos de la red."
   ]
  },
  {
   "cell_type": "code",
   "execution_count": 81,
   "metadata": {},
   "outputs": [
    {
     "data": {
      "text/plain": [
       "APT (generic function with 1 method)"
      ]
     },
     "execution_count": 81,
     "metadata": {},
     "output_type": "execute_result"
    }
   ],
   "source": [
    "# Promedio de las longitudes de caminos más cortos\n",
    "function APT(M, i)\n",
    "    \n",
    "    camino = path_f(M, i) # llamo a la función path_f que me regresa un arreglo con los posibles caminos\n",
    "    longitudes = []\n",
    "    \n",
    "    for k = 1:length(camino)\n",
    "        longitud = length(camino[k]) - 1\n",
    "        push!(longitudes, longitud)\n",
    "    end\n",
    "    \n",
    "    APT = sum(longitudes)/length(camino)\n",
    "    \n",
    "end"
   ]
  },
  {
   "cell_type": "code",
   "execution_count": 87,
   "metadata": {},
   "outputs": [
    {
     "name": "stdout",
     "output_type": "stream",
     "text": [
      "Caminos posibles:"
     ]
    },
    {
     "data": {
      "text/plain": [
       "1.4"
      ]
     },
     "execution_count": 87,
     "metadata": {},
     "output_type": "execute_result"
    }
   ],
   "source": [
    "APT(B, 3)"
   ]
  },
  {
   "cell_type": "markdown",
   "metadata": {},
   "source": [
    "### Shortest Path Length\n",
    "El camino más corto entre cualesquiera dos nodos de la red."
   ]
  },
  {
   "cell_type": "code",
   "execution_count": 83,
   "metadata": {},
   "outputs": [
    {
     "data": {
      "text/plain": [
       "SPL (generic function with 2 methods)"
      ]
     },
     "execution_count": 83,
     "metadata": {},
     "output_type": "execute_result"
    }
   ],
   "source": [
    "function SPL(M, i)\n",
    "    \n",
    "    camino = path_f(M, i) # llamo a la función path_f que me regresa un arreglo con los posibles caminos\n",
    "    longitudes = []\n",
    "    camino_ij = []\n",
    "    \n",
    "    for k = 1:length(camino)\n",
    "        \n",
    "        for m = 2:length(camino[k])\n",
    "            \n",
    "            if camino[k[m]] == j\n",
    "                push!(camino_ij, camino[k])\n",
    "            end\n",
    "        end\n",
    "        push!(longitudes, length(camino_ij[k]) - 1)\n",
    "    end\n",
    "    \n",
    "    minimum(longitudes)\n",
    "    \n",
    "end"
   ]
  },
  {
   "cell_type": "code",
   "execution_count": 83,
   "metadata": {},
   "outputs": [
    {
     "ename": "UndefVarError",
     "evalue": "UndefVarError: SPL not defined",
     "output_type": "error",
     "traceback": [
      "UndefVarError: SPL not defined",
      "",
      "Stacktrace:",
      " [1] top-level scope at In[83]:1"
     ]
    }
   ],
   "source": [
    "SPL(B, 3, 1)"
   ]
  },
  {
   "cell_type": "markdown",
   "metadata": {},
   "source": [
    "### Excentricidad\n",
    "\n",
    "#### Excentricidad de un nodo\n",
    "La excentricidad de un nodo es la longitud mayor entre los caminos más cortos que existen entre dos nodos de la red."
   ]
  },
  {
   "cell_type": "code",
   "execution_count": 19,
   "metadata": {},
   "outputs": [
    {
     "data": {
      "text/plain": [
       "excentricidad_nodo (generic function with 1 method)"
      ]
     },
     "execution_count": 19,
     "metadata": {},
     "output_type": "execute_result"
    }
   ],
   "source": [
    "function excentricidad_nodo(M, i, j)\n",
    "    \n",
    "    camino_corto = SPL(M, i, j) # llamo a la función SPL que me regresa los caminos más cortos entre i y j.\n",
    "    \n",
    "    maximum(camino_corto) - 1\n",
    "    \n",
    "end"
   ]
  },
  {
   "cell_type": "markdown",
   "metadata": {},
   "source": [
    "#### Excentricidad de la red\n",
    "La excentricidad de la red es el vector de tamaño \"n\" que contiene a las excentricidades de cada nodo."
   ]
  },
  {
   "cell_type": "code",
   "execution_count": 20,
   "metadata": {},
   "outputs": [
    {
     "data": {
      "text/plain": [
       "excentricidad_red (generic function with 1 method)"
      ]
     },
     "execution_count": 20,
     "metadata": {},
     "output_type": "execute_result"
    }
   ],
   "source": [
    "function excentricidad_red(M, i)\n",
    "    \n",
    "    excentricidad = []\n",
    "    \n",
    "    for j = 1:length(M[:, 1])\n",
    "        exc_n = excentricidad_nodo(M, i, j)\n",
    "        push!(excentricidad, exc_n)\n",
    "    end\n",
    "    \n",
    "    print(excentricidad)\n",
    "    \n",
    "end"
   ]
  },
  {
   "cell_type": "markdown",
   "metadata": {},
   "source": [
    "#### Diámetro\n",
    "Se define como el máximo de las excentricidades que componen al vector excentricidad de la red."
   ]
  },
  {
   "cell_type": "code",
   "execution_count": 22,
   "metadata": {},
   "outputs": [
    {
     "data": {
      "text/plain": [
       "diametro (generic function with 2 methods)"
      ]
     },
     "execution_count": 22,
     "metadata": {},
     "output_type": "execute_result"
    }
   ],
   "source": [
    "function diametro(M, i)\n",
    "    maximum(excentricidad_red)\n",
    "end"
   ]
  },
  {
   "cell_type": "markdown",
   "metadata": {},
   "source": [
    "#### Radio\n",
    "Se define como el mínimo de las excentricidades que componen al vector excentricidad de la red."
   ]
  },
  {
   "cell_type": "code",
   "execution_count": 23,
   "metadata": {},
   "outputs": [
    {
     "data": {
      "text/plain": [
       "radio (generic function with 1 method)"
      ]
     },
     "execution_count": 23,
     "metadata": {},
     "output_type": "execute_result"
    }
   ],
   "source": [
    "function radio(M, i)\n",
    "    minimum(excentricidad_red)\n",
    "end"
   ]
  },
  {
   "cell_type": "markdown",
   "metadata": {},
   "source": [
    "#### Clustering Coefficient"
   ]
  },
  {
   "cell_type": "markdown",
   "metadata": {},
   "source": [
    "##### Clustering coefficient local\n",
    "$$C_i = \\frac{número de triángulos con quienes está conectado}{número de triángulos posibles del nodo}$$"
   ]
  },
  {
   "cell_type": "code",
   "execution_count": null,
   "metadata": {},
   "outputs": [],
   "source": [
    "function cluster_coef(M, i)\n",
    "    \n",
    "    tconect = [[i, k] for k = 1:length(M[i, :]) if M[i, :][k] != 0]\n",
    "                \n",
    "                tposib = \n",
    "                cc = tconect / tposib\n",
    "\n",
    "    \n",
    "end"
   ]
  },
  {
   "cell_type": "code",
   "execution_count": null,
   "metadata": {},
   "outputs": [],
   "source": [
    "# Para el denominador $$1/2 k_i(k_i-1)$$ con k_i el grado del nodo\n"
   ]
  },
  {
   "cell_type": "markdown",
   "metadata": {},
   "source": [
    "##### Clustering coefficient global\n",
    "$$C = \\frac{(número de triángulos)*3}{número de triángulos conectadas}$$"
   ]
  },
  {
   "cell_type": "code",
   "execution_count": null,
   "metadata": {},
   "outputs": [],
   "source": [
    "# Para el numerador, sobre todos los nodos\n",
    "mapreduce(x -> x[end], +, path)"
   ]
  },
  {
   "cell_type": "code",
   "execution_count": null,
   "metadata": {},
   "outputs": [],
   "source": [
    "# Para el denominador $$sum 1/2 k_i(k_i-1)$$ con k_i el grado del nodo\n",
    "\n"
   ]
  }
 ],
 "metadata": {
  "kernelspec": {
   "display_name": "Julia 1.1.0",
   "language": "julia",
   "name": "julia-1.1"
  },
  "language_info": {
   "file_extension": ".jl",
   "mimetype": "application/julia",
   "name": "julia",
   "version": "1.1.0"
  }
 },
 "nbformat": 4,
 "nbformat_minor": 2
}
